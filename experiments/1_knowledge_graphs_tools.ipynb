{
 "cells": [
  {
   "attachments": {},
   "cell_type": "markdown",
   "metadata": {},
   "source": [
    "### Knowledge Graphs Tools\n",
    "\n",
    "This notebook aims to test some Knowledge Graphs tools to load, manipulate and process the data from some databases."
   ]
  },
  {
   "cell_type": "code",
   "execution_count": 1,
   "metadata": {},
   "outputs": [
    {
     "data": {
      "text/html": [
       "\n",
       "                <script type=\"application/javascript\" id=\"jupyter_black\">\n",
       "                (function() {\n",
       "                    if (window.IPython === undefined) {\n",
       "                        return\n",
       "                    }\n",
       "                    var msg = \"WARNING: it looks like you might have loaded \" +\n",
       "                        \"jupyter_black in a non-lab notebook with \" +\n",
       "                        \"`is_lab=True`. Please double check, and if \" +\n",
       "                        \"loading with `%load_ext` please review the README!\"\n",
       "                    console.log(msg)\n",
       "                    alert(msg)\n",
       "                })()\n",
       "                </script>\n",
       "                "
      ],
      "text/plain": [
       "<IPython.core.display.HTML object>"
      ]
     },
     "metadata": {},
     "output_type": "display_data"
    }
   ],
   "source": [
    "%load_ext autoreload\n",
    "%load_ext jupyter_black"
   ]
  },
  {
   "attachments": {},
   "cell_type": "markdown",
   "metadata": {},
   "source": [
    "We will need two databases: \\\n",
    "1 - [WN18RR](https://paperswithcode.com/dataset/wn18rr) \\\n",
    "2 - [FB15k-237](https://paperswithcode.com/dataset/fb15k-237)\n",
    "\n",
    "Some repositories implement parsers to correlate entities id's to metadata. Dataset 1 and 2 will be load using [Datasets for Knowledge Graph Completion with Textual Information about Entities](https://github.com/villmow/datasets_knowledge_embedding).\n",
    "\n",
    "Other options: \\\n",
    "1 - [CoKE.get_datasets](https://github.com/PaddlePaddle/Research/blob/master/KG/CoKE/wget_datasets.sh) \\\n",
    "2 - [kgbench](https://github.com/pbloem/kgbench-data)"
   ]
  },
  {
   "attachments": {},
   "cell_type": "markdown",
   "metadata": {},
   "source": [
    "### Load FB15k-237"
   ]
  },
  {
   "cell_type": "code",
   "execution_count": 2,
   "metadata": {},
   "outputs": [],
   "source": [
    "import pandas as pd\n",
    "import json\n",
    "\n",
    "DATASET_1 = \"../data/datasets_knowledge_embedding/FB15k-237/\"\n",
    "\n",
    "train_fb15k237 = pd.read_csv(DATASET_1 + \"train.txt\", sep=\"\\t\", header=None)\n",
    "valid_fb15k237 = pd.read_csv(DATASET_1 + \"valid.txt\", sep=\"\\t\", header=None)\n",
    "test_fb15k237 = pd.read_csv(DATASET_1 + \"test.txt\", sep=\"\\t\", header=None)\n",
    "entity2wikidata = json.load(open(DATASET_1 + \"entity2wikidata.json\"))"
   ]
  },
  {
   "cell_type": "code",
   "execution_count": 3,
   "metadata": {},
   "outputs": [
    {
     "data": {
      "text/html": [
       "<div>\n",
       "<style scoped>\n",
       "    .dataframe tbody tr th:only-of-type {\n",
       "        vertical-align: middle;\n",
       "    }\n",
       "\n",
       "    .dataframe tbody tr th {\n",
       "        vertical-align: top;\n",
       "    }\n",
       "\n",
       "    .dataframe thead th {\n",
       "        text-align: right;\n",
       "    }\n",
       "</style>\n",
       "<table border=\"1\" class=\"dataframe\">\n",
       "  <thead>\n",
       "    <tr style=\"text-align: right;\">\n",
       "      <th></th>\n",
       "      <th>0</th>\n",
       "      <th>1</th>\n",
       "      <th>2</th>\n",
       "    </tr>\n",
       "  </thead>\n",
       "  <tbody>\n",
       "    <tr>\n",
       "      <th>0</th>\n",
       "      <td>/m/027rn</td>\n",
       "      <td>/location/country/form_of_government</td>\n",
       "      <td>/m/06cx9</td>\n",
       "    </tr>\n",
       "    <tr>\n",
       "      <th>1</th>\n",
       "      <td>/m/017dcd</td>\n",
       "      <td>/tv/tv_program/regular_cast./tv/regular_tv_app...</td>\n",
       "      <td>/m/06v8s0</td>\n",
       "    </tr>\n",
       "    <tr>\n",
       "      <th>2</th>\n",
       "      <td>/m/07s9rl0</td>\n",
       "      <td>/media_common/netflix_genre/titles</td>\n",
       "      <td>/m/0170z3</td>\n",
       "    </tr>\n",
       "    <tr>\n",
       "      <th>3</th>\n",
       "      <td>/m/01sl1q</td>\n",
       "      <td>/award/award_winner/awards_won./award/award_ho...</td>\n",
       "      <td>/m/044mz_</td>\n",
       "    </tr>\n",
       "    <tr>\n",
       "      <th>4</th>\n",
       "      <td>/m/0cnk2q</td>\n",
       "      <td>/soccer/football_team/current_roster./sports/s...</td>\n",
       "      <td>/m/02nzb8</td>\n",
       "    </tr>\n",
       "  </tbody>\n",
       "</table>\n",
       "</div>"
      ],
      "text/plain": [
       "            0                                                  1          2\n",
       "0    /m/027rn               /location/country/form_of_government   /m/06cx9\n",
       "1   /m/017dcd  /tv/tv_program/regular_cast./tv/regular_tv_app...  /m/06v8s0\n",
       "2  /m/07s9rl0                 /media_common/netflix_genre/titles  /m/0170z3\n",
       "3   /m/01sl1q  /award/award_winner/awards_won./award/award_ho...  /m/044mz_\n",
       "4   /m/0cnk2q  /soccer/football_team/current_roster./sports/s...  /m/02nzb8"
      ]
     },
     "execution_count": 3,
     "metadata": {},
     "output_type": "execute_result"
    }
   ],
   "source": [
    "train_fb15k237.head()"
   ]
  },
  {
   "cell_type": "code",
   "execution_count": 4,
   "metadata": {},
   "outputs": [
    {
     "data": {
      "text/plain": [
       "0                   /m/02w7gg\n",
       "1    /people/ethnicity/people\n",
       "2                    /m/0l6px\n",
       "Name: 51229, dtype: object"
      ]
     },
     "execution_count": 4,
     "metadata": {},
     "output_type": "execute_result"
    }
   ],
   "source": [
    "train_fb15k237.sample(1, random_state=42).iloc[0]"
   ]
  },
  {
   "cell_type": "code",
   "execution_count": 5,
   "metadata": {},
   "outputs": [],
   "source": [
    "# Show random item from FB15k-237 dataset\n",
    "\n",
    "\n",
    "def get_random_fb15k237(dataset):\n",
    "    entity_a, relation_ab, entity_b = dataset.sample(1).iloc[0].to_list()\n",
    "\n",
    "    print(\n",
    "        \"Entity A:\",\n",
    "        entity2wikidata[entity_a][\"alternatives\"],\n",
    "        ', description: \"%s\"' % entity2wikidata[entity_a][\"description\"],\n",
    "    )\n",
    "    print(\"relation A_B:\", relation_ab)\n",
    "    print(\n",
    "        \"Entity B:\",\n",
    "        entity2wikidata[entity_b][\"alternatives\"],\n",
    "        ', description: \"%s\"' % entity2wikidata[entity_b][\"description\"],\n",
    "    )\n",
    "\n",
    "    print(entity2wikidata[entity_a][\"wikipedia\"])\n",
    "    print(entity2wikidata[entity_b][\"wikipedia\"])\n",
    "    return entity_a, relation_ab, entity_b"
   ]
  },
  {
   "cell_type": "code",
   "execution_count": 6,
   "metadata": {},
   "outputs": [
    {
     "name": "stdout",
     "output_type": "stream",
     "text": [
      "Entity A: [] , description: \"Indian actor\"\n",
      "relation A_B: /people/person/languages\n",
      "Entity B: ['Gujarati language', 'gu'] , description: \"one of the official languages of India\"\n",
      "https://en.wikipedia.org/wiki/Jackie_Shroff\n",
      "https://en.wikipedia.org/wiki/Gujarati_language\n"
     ]
    },
    {
     "data": {
      "text/plain": [
       "('/m/05wdgq', '/people/person/languages', '/m/0121sr')"
      ]
     },
     "execution_count": 6,
     "metadata": {},
     "output_type": "execute_result"
    }
   ],
   "source": [
    "get_random_fb15k237(train_fb15k237)"
   ]
  },
  {
   "cell_type": "code",
   "execution_count": 7,
   "metadata": {},
   "outputs": [
    {
     "name": "stdout",
     "output_type": "stream",
     "text": [
      "{'alternatives': ['Denton, Texas'], 'description': 'city in Texas, United States', 'label': 'Denton', 'wikidata_id': 'Q128306', 'wikipedia': 'https://en.wikipedia.org/wiki/Denton,_Texas'}\n",
      "city in Denton County, Texas, United States\n"
     ]
    }
   ],
   "source": [
    "# We can use https://pypi.org/project/Wikidata/ to get more information about the entities with wikidata_id\n",
    "from wikidata.client import Client\n",
    "\n",
    "entity_a = entity2wikidata[\"/m/010016\"]\n",
    "print(entity_a)\n",
    "\n",
    "client = Client()\n",
    "entity_a_wiki = client.get(entity_a[\"wikidata_id\"], load=True)\n",
    "\n",
    "print(entity_a_wiki.description)"
   ]
  },
  {
   "attachments": {},
   "cell_type": "markdown",
   "metadata": {},
   "source": [
    "### Load WN18RR dataset"
   ]
  },
  {
   "cell_type": "code",
   "execution_count": 8,
   "metadata": {},
   "outputs": [],
   "source": [
    "DATASET_2 = \"../data/datasets_knowledge_embedding/WN18RR/text/\"\n",
    "\n",
    "train_wn18rr = pd.read_csv(DATASET_2 + \"train.txt\", sep=\"\\t\", header=None)\n",
    "valid_wn18rr = pd.read_csv(DATASET_2 + \"valid.txt\", sep=\"\\t\", header=None)\n",
    "test_wn18rr = pd.read_csv(DATASET_2 + \"test.txt\", sep=\"\\t\", header=None)"
   ]
  },
  {
   "cell_type": "code",
   "execution_count": 9,
   "metadata": {},
   "outputs": [
    {
     "data": {
      "text/html": [
       "<div>\n",
       "<style scoped>\n",
       "    .dataframe tbody tr th:only-of-type {\n",
       "        vertical-align: middle;\n",
       "    }\n",
       "\n",
       "    .dataframe tbody tr th {\n",
       "        vertical-align: top;\n",
       "    }\n",
       "\n",
       "    .dataframe thead th {\n",
       "        text-align: right;\n",
       "    }\n",
       "</style>\n",
       "<table border=\"1\" class=\"dataframe\">\n",
       "  <thead>\n",
       "    <tr style=\"text-align: right;\">\n",
       "      <th></th>\n",
       "      <th>0</th>\n",
       "      <th>1</th>\n",
       "      <th>2</th>\n",
       "    </tr>\n",
       "  </thead>\n",
       "  <tbody>\n",
       "    <tr>\n",
       "      <th>0</th>\n",
       "      <td>land_reform.n.01</td>\n",
       "      <td>_hypernym</td>\n",
       "      <td>reform.n.01</td>\n",
       "    </tr>\n",
       "    <tr>\n",
       "      <th>1</th>\n",
       "      <td>cover.v.01</td>\n",
       "      <td>_derivationally_related_form</td>\n",
       "      <td>covering.n.02</td>\n",
       "    </tr>\n",
       "    <tr>\n",
       "      <th>2</th>\n",
       "      <td>botany.n.02</td>\n",
       "      <td>_derivationally_related_form</td>\n",
       "      <td>botanize.v.01</td>\n",
       "    </tr>\n",
       "    <tr>\n",
       "      <th>3</th>\n",
       "      <td>kamet.n.01</td>\n",
       "      <td>_instance_hypernym</td>\n",
       "      <td>mountain_peak.n.01</td>\n",
       "    </tr>\n",
       "    <tr>\n",
       "      <th>4</th>\n",
       "      <td>question.n.01</td>\n",
       "      <td>_derivationally_related_form</td>\n",
       "      <td>ask.v.01</td>\n",
       "    </tr>\n",
       "  </tbody>\n",
       "</table>\n",
       "</div>"
      ],
      "text/plain": [
       "                  0                             1                   2\n",
       "0  land_reform.n.01                     _hypernym         reform.n.01\n",
       "1        cover.v.01  _derivationally_related_form       covering.n.02\n",
       "2       botany.n.02  _derivationally_related_form       botanize.v.01\n",
       "3        kamet.n.01            _instance_hypernym  mountain_peak.n.01\n",
       "4     question.n.01  _derivationally_related_form            ask.v.01"
      ]
     },
     "execution_count": 9,
     "metadata": {},
     "output_type": "execute_result"
    }
   ],
   "source": [
    "train_wn18rr.head()"
   ]
  },
  {
   "cell_type": "code",
   "execution_count": 10,
   "metadata": {},
   "outputs": [],
   "source": [
    "from nltk.corpus import wordnet as wn\n",
    "\n",
    "# Show random item from wn18rr dataset\n",
    "\n",
    "\n",
    "def get_random_wn18rr(dataset):\n",
    "    entity_a, relation_ab, entity_b = dataset.sample(1).iloc[0].to_list()\n",
    "\n",
    "    wn_a = wn.synset(entity_a)\n",
    "    wn_b = wn.synset(entity_b)\n",
    "\n",
    "    print(\n",
    "        \"Entity A:\",\n",
    "        entity_a,\n",
    "        ', description: \"%s\"' % wn_a.definition(),\n",
    "    )\n",
    "    print(\"relation A_B:\", relation_ab)\n",
    "    print(\"Entity B:\", entity_b, ', description: \"%s\"' % wn_b.definition())\n",
    "\n",
    "    return entity_a, relation_ab, entity_b"
   ]
  },
  {
   "cell_type": "code",
   "execution_count": 11,
   "metadata": {},
   "outputs": [
    {
     "name": "stdout",
     "output_type": "stream",
     "text": [
      "Entity A: genus_mimosa.n.01 , description: \"genus of spiny woody shrubs or trees; named for their apparent imitation of animal sensitivity to light and heat and movement\"\n",
      "relation A_B: _hypernym\n",
      "Entity B: rosid_dicot_genus.n.01 , description: \"a genus of dicotyledonous plants\"\n"
     ]
    },
    {
     "data": {
      "text/plain": [
       "('genus_mimosa.n.01', '_hypernym', 'rosid_dicot_genus.n.01')"
      ]
     },
     "execution_count": 11,
     "metadata": {},
     "output_type": "execute_result"
    }
   ],
   "source": [
    "get_random_wn18rr(train_wn18rr)"
   ]
  },
  {
   "attachments": {},
   "cell_type": "markdown",
   "metadata": {},
   "source": [
    "### Visualization of the knowledge graph - FB15k237"
   ]
  },
  {
   "cell_type": "code",
   "execution_count": 12,
   "metadata": {},
   "outputs": [
    {
     "name": "stdout",
     "output_type": "stream",
     "text": [
      "Warning: When  cdn_resources is 'local' jupyter notebook has issues displaying graphics on chrome/safari. Use cdn_resources='in_line' or cdn_resources='remote' if you have issues viewing graphics in a notebook.\n"
     ]
    }
   ],
   "source": [
    "import networkx as nx\n",
    "from pyvis.network import Network\n",
    "\n",
    "dataset = train_fb15k237.head(500).copy()\n",
    "\n",
    "\n",
    "def get_wikidata_label(entity):\n",
    "    if entity in entity2wikidata.keys():\n",
    "        return entity2wikidata[entity][\"label\"]\n",
    "    else:\n",
    "        return entity\n",
    "\n",
    "\n",
    "dataset[0] = dataset[0].apply(lambda x: get_wikidata_label(x))\n",
    "dataset[2] = dataset[2].apply(lambda x: get_wikidata_label(x))\n",
    "\n",
    "net = Network(notebook=True, directed=True, width=\"1920px\", height=\"1080px\")\n",
    "\n",
    "G = nx.from_pandas_edgelist(dataset, source=0, target=2)\n",
    "\n",
    "for node in G.nodes():\n",
    "    if node in entity2wikidata.keys():\n",
    "        net.add_node(entity2wikidata[node][\"label\"], title=str(entity2wikidata[node]))\n",
    "    else:\n",
    "        net.add_node(node, title=\"No information about this entity.\")\n",
    "\n",
    "edge_titles = {}\n",
    "for _, row in dataset.iterrows():\n",
    "    source = row[0]\n",
    "    title = row[1]\n",
    "    target = row[2]\n",
    "    edge_titles[(source, target)] = title\n",
    "\n",
    "\n",
    "for source, target in G.edges():\n",
    "    title = edge_titles.get((source, target), \"\")\n",
    "    net.add_edge(source, target, title=title, font=\"12px Arial\")\n",
    "\n",
    "\n",
    "net.write_html(\"example_2.html\")"
   ]
  }
 ],
 "metadata": {
  "kernelspec": {
   "display_name": "venv",
   "language": "python",
   "name": "python3"
  },
  "language_info": {
   "codemirror_mode": {
    "name": "ipython",
    "version": 3
   },
   "file_extension": ".py",
   "mimetype": "text/x-python",
   "name": "python",
   "nbconvert_exporter": "python",
   "pygments_lexer": "ipython3",
   "version": "3.10.9"
  },
  "orig_nbformat": 4
 },
 "nbformat": 4,
 "nbformat_minor": 2
}
