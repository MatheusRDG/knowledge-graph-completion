{
 "cells": [
  {
   "attachments": {},
   "cell_type": "markdown",
   "metadata": {},
   "source": [
    "### Knowledge Graphs Tools\n",
    "\n",
    "This notebook aims to test some Knowledge Graphs tools to load, manipulate and process the data from some databases."
   ]
  },
  {
   "cell_type": "code",
   "execution_count": null,
   "metadata": {},
   "outputs": [],
   "source": [
    "%load_ext autoreload\n",
    "%load_ext jupyter_black"
   ]
  },
  {
   "attachments": {},
   "cell_type": "markdown",
   "metadata": {},
   "source": [
    "We will need two databases: \\\n",
    "1 - [WN18RR](https://paperswithcode.com/dataset/wn18rr) \\\n",
    "2 - [FB15k-237](https://paperswithcode.com/dataset/fb15k-237)\n",
    "\n",
    "Some repositories implement parsers to correlate entities id's to metadata. Dataset 1 and 2 will be load using [Datasets for Knowledge Graph Completion with Textual Information about Entities](https://github.com/villmow/datasets_knowledge_embedding).\n",
    "\n",
    "Other options: \\\n",
    "1 - [CoKE.get_datasets](https://github.com/PaddlePaddle/Research/blob/master/KG/CoKE/wget_datasets.sh) \\\n",
    "2 - [kgbench](https://github.com/pbloem/kgbench-data)"
   ]
  },
  {
   "attachments": {},
   "cell_type": "markdown",
   "metadata": {},
   "source": [
    "### Load FB15k-237"
   ]
  },
  {
   "cell_type": "code",
   "execution_count": null,
   "metadata": {},
   "outputs": [],
   "source": [
    "import pandas as pd\n",
    "import json\n",
    "\n",
    "DATASET_1 = \"../data/datasets_knowledge_embedding/FB15k-237/\"\n",
    "\n",
    "train_fb15k237 = pd.read_csv(DATASET_1 + \"train.txt\", sep=\"\\t\", header=None)\n",
    "valid_fb15k237 = pd.read_csv(DATASET_1 + \"valid.txt\", sep=\"\\t\", header=None)\n",
    "test_fb15k237 = pd.read_csv(DATASET_1 + \"test.txt\", sep=\"\\t\", header=None)\n",
    "entity2wikidata = json.load(open(DATASET_1 + \"entity2wikidata.json\"))"
   ]
  },
  {
   "cell_type": "code",
   "execution_count": null,
   "metadata": {},
   "outputs": [],
   "source": [
    "train_fb15k237.head()"
   ]
  },
  {
   "cell_type": "code",
   "execution_count": null,
   "metadata": {},
   "outputs": [],
   "source": [
    "train_fb15k237.sample(1, random_state=42).iloc[0]"
   ]
  },
  {
   "cell_type": "code",
   "execution_count": null,
   "metadata": {},
   "outputs": [],
   "source": [
    "# Show random item from FB15k-237 dataset\n",
    "\n",
    "\n",
    "def get_random_fb15k237(dataset):\n",
    "    entity_a, relation_ab, entity_b = dataset.sample(1).iloc[0].to_list()\n",
    "\n",
    "    print(\n",
    "        \"Entity A:\",\n",
    "        entity2wikidata[entity_a][\"alternatives\"],\n",
    "        ', description: \"%s\"' % entity2wikidata[entity_a][\"description\"],\n",
    "    )\n",
    "    print(\"relation A_B:\", relation_ab)\n",
    "    print(\n",
    "        \"Entity B:\",\n",
    "        entity2wikidata[entity_b][\"alternatives\"],\n",
    "        ', description: \"%s\"' % entity2wikidata[entity_b][\"description\"],\n",
    "    )\n",
    "\n",
    "    print(entity2wikidata[entity_a][\"wikipedia\"])\n",
    "    print(entity2wikidata[entity_b][\"wikipedia\"])\n",
    "    return entity_a, relation_ab, entity_b"
   ]
  },
  {
   "cell_type": "code",
   "execution_count": null,
   "metadata": {},
   "outputs": [],
   "source": [
    "get_random_fb15k237(train_fb15k237)"
   ]
  },
  {
   "cell_type": "code",
   "execution_count": null,
   "metadata": {},
   "outputs": [],
   "source": [
    "# We can use https://pypi.org/project/Wikidata/ to get more information about the entities with wikidata_id\n",
    "from wikidata.client import Client\n",
    "\n",
    "entity_a = entity2wikidata[\"/m/010016\"]\n",
    "print(entity_a)\n",
    "\n",
    "client = Client()\n",
    "entity_a_wiki = client.get(entity_a[\"wikidata_id\"], load=True)\n",
    "\n",
    "print(entity_a_wiki.description)"
   ]
  },
  {
   "attachments": {},
   "cell_type": "markdown",
   "metadata": {},
   "source": [
    "### Load WN18RR dataset"
   ]
  },
  {
   "cell_type": "code",
   "execution_count": null,
   "metadata": {},
   "outputs": [],
   "source": [
    "DATASET_2 = \"../data/datasets_knowledge_embedding/WN18RR/text/\"\n",
    "\n",
    "train_wn18rr = pd.read_csv(DATASET_2 + \"train.txt\", sep=\"\\t\", header=None)\n",
    "valid_wn18rr = pd.read_csv(DATASET_2 + \"valid.txt\", sep=\"\\t\", header=None)\n",
    "test_wn18rr = pd.read_csv(DATASET_2 + \"test.txt\", sep=\"\\t\", header=None)"
   ]
  },
  {
   "cell_type": "code",
   "execution_count": null,
   "metadata": {},
   "outputs": [],
   "source": [
    "train_wn18rr.head()"
   ]
  },
  {
   "cell_type": "code",
   "execution_count": null,
   "metadata": {},
   "outputs": [],
   "source": [
    "from nltk.corpus import wordnet as wn\n",
    "\n",
    "# Show random item from wn18rr dataset\n",
    "\n",
    "\n",
    "def get_random_wn18rr(dataset):\n",
    "    entity_a, relation_ab, entity_b = dataset.sample(1).iloc[0].to_list()\n",
    "\n",
    "    wn_a = wn.synset(entity_a)\n",
    "    wn_b = wn.synset(entity_b)\n",
    "\n",
    "    print(\n",
    "        \"Entity A:\",\n",
    "        entity_a,\n",
    "        ', description: \"%s\"' % wn_a.definition(),\n",
    "    )\n",
    "    print(\"relation A_B:\", relation_ab)\n",
    "    print(\"Entity B:\", entity_b, ', description: \"%s\"' % wn_b.definition())\n",
    "\n",
    "    return entity_a, relation_ab, entity_b"
   ]
  },
  {
   "cell_type": "code",
   "execution_count": null,
   "metadata": {},
   "outputs": [],
   "source": [
    "get_random_wn18rr(train_wn18rr)"
   ]
  },
  {
   "attachments": {},
   "cell_type": "markdown",
   "metadata": {},
   "source": [
    "### Visualization of the knowledge graph - FB15k237"
   ]
  },
  {
   "cell_type": "code",
   "execution_count": null,
   "metadata": {},
   "outputs": [],
   "source": [
    "import networkx as nx\n",
    "from pyvis.network import Network\n",
    "\n",
    "dataset = train_fb15k237.head(500).copy()\n",
    "\n",
    "\n",
    "def get_wikidata_label(entity):\n",
    "    if entity in entity2wikidata.keys():\n",
    "        return entity2wikidata[entity][\"label\"]\n",
    "    else:\n",
    "        return entity\n",
    "\n",
    "\n",
    "dataset[0] = dataset[0].apply(lambda x: get_wikidata_label(x))\n",
    "dataset[2] = dataset[2].apply(lambda x: get_wikidata_label(x))\n",
    "\n",
    "net = Network(notebook=True, directed=True, width=\"1920px\", height=\"1080px\")\n",
    "\n",
    "G = nx.from_pandas_edgelist(dataset, source=0, target=2)\n",
    "\n",
    "for node in G.nodes():\n",
    "    if node in entity2wikidata.keys():\n",
    "        net.add_node(entity2wikidata[node][\"label\"], title=str(entity2wikidata[node]))\n",
    "    else:\n",
    "        net.add_node(node, title=\"No information about this entity.\")\n",
    "\n",
    "edge_titles = {}\n",
    "for _, row in dataset.iterrows():\n",
    "    source = row[0]\n",
    "    title = row[1]\n",
    "    target = row[2]\n",
    "    edge_titles[(source, target)] = title\n",
    "\n",
    "\n",
    "for source, target in G.edges():\n",
    "    title = edge_titles.get((source, target), \"\")\n",
    "    net.add_edge(source, target, title=title, font=\"12px Arial\")\n",
    "\n",
    "\n",
    "net.write_html(\"example_2.html\")"
   ]
  }
 ],
 "metadata": {
  "kernelspec": {
   "display_name": "venv",
   "language": "python",
   "name": "python3"
  },
  "language_info": {
   "codemirror_mode": {
    "name": "ipython",
    "version": 3
   },
   "file_extension": ".py",
   "mimetype": "text/x-python",
   "name": "python",
   "nbconvert_exporter": "python",
   "pygments_lexer": "ipython3",
   "version": "3.10.9"
  },
  "orig_nbformat": 4
 },
 "nbformat": 4,
 "nbformat_minor": 2
}
