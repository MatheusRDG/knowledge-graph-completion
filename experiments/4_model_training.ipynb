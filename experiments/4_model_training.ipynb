{
 "cells": [
  {
   "attachments": {},
   "cell_type": "markdown",
   "metadata": {},
   "source": [
    "### Model Training Setup"
   ]
  },
  {
   "cell_type": "code",
   "execution_count": 1,
   "metadata": {},
   "outputs": [
    {
     "data": {
      "text/html": [
       "\n",
       "                <script type=\"application/javascript\" id=\"jupyter_black\">\n",
       "                (function() {\n",
       "                    if (window.IPython === undefined) {\n",
       "                        return\n",
       "                    }\n",
       "                    var msg = \"WARNING: it looks like you might have loaded \" +\n",
       "                        \"jupyter_black in a non-lab notebook with \" +\n",
       "                        \"`is_lab=True`. Please double check, and if \" +\n",
       "                        \"loading with `%load_ext` please review the README!\"\n",
       "                    console.log(msg)\n",
       "                    alert(msg)\n",
       "                })()\n",
       "                </script>\n",
       "                "
      ],
      "text/plain": [
       "<IPython.core.display.HTML object>"
      ]
     },
     "metadata": {},
     "output_type": "display_data"
    }
   ],
   "source": [
    "%load_ext autoreload\n",
    "%autoreload 2\n",
    "%load_ext jupyter_black"
   ]
  },
  {
   "cell_type": "code",
   "execution_count": 2,
   "metadata": {},
   "outputs": [
    {
     "name": "stdout",
     "output_type": "stream",
     "text": [
      "c:\\Users\\Matheus\\Documents\\Git\\knowledge-graph-completion\n"
     ]
    }
   ],
   "source": [
    "cd .."
   ]
  },
  {
   "attachments": {},
   "cell_type": "markdown",
   "metadata": {},
   "source": [
    "#### Bart Example"
   ]
  },
  {
   "cell_type": "code",
   "execution_count": 3,
   "metadata": {},
   "outputs": [],
   "source": [
    "# from transformers import BartForConditionalGeneration, BartTokenizer\n",
    "\n",
    "# model = BartForConditionalGeneration.from_pretrained(\"facebook/bart-large\", forced_bos_token_id=0)\n",
    "# tok = BartTokenizer.from_pretrained(\"facebook/bart-large\")\n",
    "# example_english_phrase = \"Dominican Republic has form of government of <mask>\"\n",
    "# batch = tok(example_english_phrase, return_tensors=\"pt\")\n",
    "# generated_ids = model.generate(batch[\"input_ids\"])\n",
    "# tok.batch_decode(generated_ids, skip_special_tokens=True)"
   ]
  },
  {
   "attachments": {},
   "cell_type": "markdown",
   "metadata": {},
   "source": [
    "### Load data"
   ]
  },
  {
   "cell_type": "code",
   "execution_count": 4,
   "metadata": {},
   "outputs": [],
   "source": [
    "import pandas as pd\n",
    "from src.utils import load_fb15k237\n",
    "\n",
    "PATH_FB15k237 = \"data/datasets_knowledge_embedding/FB15k-237\"\n",
    "\n",
    "train, valid, test, entity2wikidata = load_fb15k237(PATH_FB15k237)\n",
    "processed_data = pd.read_csv(PATH_FB15k237 + \"/processed_data.csv\")"
   ]
  },
  {
   "cell_type": "markdown",
   "metadata": {},
   "source": [
    "### Load the model"
   ]
  },
  {
   "cell_type": "code",
   "execution_count": 5,
   "metadata": {},
   "outputs": [
    {
     "name": "stderr",
     "output_type": "stream",
     "text": [
      "You passed along `num_labels=3` with an incompatible id to label map: {'0': 'LABEL_0', '1': 'LABEL_1'}. The number of labels wil be overwritten to 2.\n"
     ]
    }
   ],
   "source": [
    "from transformers import (\n",
    "    BartForConditionalGeneration,\n",
    "    BartTokenizer,\n",
    "    BartConfig,\n",
    "    DataCollatorForSeq2Seq,\n",
    ")\n",
    "\n",
    "import torch\n",
    "\n",
    "device = torch.device(\"cuda\" if torch.cuda.is_available() else \"cpu\")\n",
    "\n",
    "DEV_BATCH = 1600\n",
    "MAX_LENGTH = 32\n",
    "BATCH_SIZE = 8\n",
    "\n",
    "# Select model\n",
    "# MODEL = \"facebook/bart-large\"\n",
    "# MODEL = \"facebook/bart-base\"\n",
    "MODEL = \"lucadiliello/bart-small\"\n",
    "\n",
    "# Load model and tokenizer\n",
    "model = BartForConditionalGeneration.from_pretrained(MODEL).cuda().float().to(device)\n",
    "tok = BartTokenizer.from_pretrained(MODEL)"
   ]
  },
  {
   "attachments": {},
   "cell_type": "markdown",
   "metadata": {},
   "source": [
    "### Some tests"
   ]
  },
  {
   "cell_type": "code",
   "execution_count": 6,
   "metadata": {},
   "outputs": [],
   "source": [
    "# sample = processed_data.iloc[5]\n",
    "\n",
    "# text_sample = sample.demonstration_input + sample.tail_text + \".\"\n",
    "# print(text_sample)\n",
    "\n",
    "# to_mask = sample.tail_text\n",
    "# print(to_mask)\n",
    "\n",
    "# ids_to_mask = tok.convert_tokens_to_ids(to_mask)\n",
    "# print(ids_to_mask)\n",
    "# print(tok.convert_ids_to_tokens(ids_to_mask))\n",
    "\n",
    "# print(\n",
    "#     tok.encode(\n",
    "#         \"i want to mask Hello world\",\n",
    "#         add_special_tokens=True,\n",
    "#         max_length=MAX_LENGHT,\n",
    "#         truncation=True,\n",
    "#         padding=\"max_length\",\n",
    "#     )[:10]\n",
    "# )\n",
    "\n",
    "# print(\n",
    "#     tok.encode(\n",
    "#         \"i want to mask <mask>\",\n",
    "#         add_special_tokens=True,\n",
    "#         max_length=MAX_LENGHT,\n",
    "#         truncation=True,\n",
    "#         padding=\"max_length\",\n",
    "#     )[:10]\n",
    "# )\n",
    "\n",
    "# print(tok.all_special_tokens)\n",
    "# print(tok.all_special_ids)\n",
    "\n",
    "# tok.mask_token_id#"
   ]
  },
  {
   "cell_type": "markdown",
   "metadata": {},
   "source": [
    "### Masking data"
   ]
  },
  {
   "cell_type": "code",
   "execution_count": 7,
   "metadata": {},
   "outputs": [],
   "source": [
    "processed_data[\"data_input\"] = (\n",
    "    processed_data[\"demonstration_input\"] + \"%s.\" % tok.mask_token\n",
    ")\n",
    "processed_data[\"data_label\"] = (\n",
    "    processed_data[\"demonstration_input\"] + processed_data[\"tail_text\"] + \".\"\n",
    ")"
   ]
  },
  {
   "cell_type": "code",
   "execution_count": 8,
   "metadata": {},
   "outputs": [],
   "source": [
    "dev = True\n",
    "\n",
    "if dev:\n",
    "    if DEV_BATCH == -1:\n",
    "        pass\n",
    "    else:\n",
    "        processed_data = processed_data.head(DEV_BATCH)"
   ]
  },
  {
   "cell_type": "code",
   "execution_count": 9,
   "metadata": {},
   "outputs": [],
   "source": [
    "from torch.utils.data import Dataset\n",
    "import copy\n",
    "import random\n",
    "\n",
    "\n",
    "class DatasetKGC(Dataset):\n",
    "    def __init__(self, data):\n",
    "        self.data = data\n",
    "        self.data[\"input_ids\"] = self.data[\"input_ids\"]\n",
    "        self.data[\"labels\"] = self.data[\"labels\"]\n",
    "        self.num_rows = self.data[\"input_ids\"].shape[0]\n",
    "\n",
    "    def __len__(self):\n",
    "        return self.num_rows\n",
    "\n",
    "    def __getitem__(self, idx):\n",
    "        _input = self.data[\"input_ids\"][idx].squeeze(0)\n",
    "        label = self.data[\"labels\"][idx].squeeze(0)\n",
    "\n",
    "        return (_input, label)"
   ]
  },
  {
   "cell_type": "code",
   "execution_count": 10,
   "metadata": {},
   "outputs": [],
   "source": [
    "from sklearn.model_selection import train_test_split\n",
    "from torch.utils.data import DataLoader\n",
    "from transformers import DataCollatorForLanguageModeling, DataCollatorWithPadding\n",
    "\n",
    "import random\n",
    "\n",
    "random.seed(42)\n",
    "\n",
    "\n",
    "def encode_data(data):\n",
    "    # Codifica as strings de entrada e rótulos como sequências de tokens BART\n",
    "    encoded_input = tok(\n",
    "        list(data[\"data_input\"]),\n",
    "        padding=\"max_length\",\n",
    "        truncation=True,\n",
    "        return_tensors=\"pt\",\n",
    "        max_length=MAX_LENGTH,\n",
    "        add_special_tokens=True,\n",
    "        return_attention_mask=False,\n",
    "    )\n",
    "    encoded_label = tok(\n",
    "        list(data[\"data_label\"]),\n",
    "        padding=\"max_length\",\n",
    "        truncation=True,\n",
    "        return_tensors=\"pt\",\n",
    "        max_length=MAX_LENGTH,\n",
    "        add_special_tokens=True,\n",
    "        return_attention_mask=False,\n",
    "    )\n",
    "\n",
    "    # Cria uma lista de exemplos\n",
    "    examples = []\n",
    "    for i in range(len(data)):\n",
    "        input_ids = encoded_input[\"input_ids\"][i]\n",
    "        labels = encoded_label[\"input_ids\"][i]\n",
    "        examples.append({\"input_ids\": input_ids, \"labels\": labels})\n",
    "\n",
    "    # Cria um objeto DataCollatorForLanguageModeling\n",
    "    data_collator = DataCollatorWithPadding(\n",
    "        tokenizer=tok, padding=\"max_length\", max_length=MAX_LENGTH\n",
    "    )\n",
    "\n",
    "    # Prepara os dados de treinamento\n",
    "    prepared_data = data_collator(examples)\n",
    "\n",
    "    return prepared_data\n",
    "\n",
    "\n",
    "def train_valid_split(data):\n",
    "    train, valid = train_test_split(data, test_size=0.2, random_state=42)\n",
    "    return encode_data(train), encode_data(valid)\n",
    "\n",
    "\n",
    "def generate_train_valid_dataloader(data):\n",
    "    train, valid = train_valid_split(data)\n",
    "\n",
    "    train_loader = DataLoader(DatasetKGC(train), batch_size=BATCH_SIZE, shuffle=False)\n",
    "\n",
    "    valid_loader = DataLoader(DatasetKGC(valid), batch_size=BATCH_SIZE, shuffle=False)\n",
    "\n",
    "    return train_loader, valid_loader"
   ]
  },
  {
   "attachments": {},
   "cell_type": "markdown",
   "metadata": {},
   "source": [
    "### Training Model"
   ]
  },
  {
   "cell_type": "code",
   "execution_count": 11,
   "metadata": {},
   "outputs": [],
   "source": [
    "train_loader, valid_loader = generate_train_valid_dataloader(processed_data)"
   ]
  },
  {
   "cell_type": "code",
   "execution_count": null,
   "metadata": {},
   "outputs": [],
   "source": [
    "# Test batch shape\n",
    "train_features, train_labels = next(iter(train_loader))\n",
    "print(f\"Train Feature batch shape: {train_features.size()}\")\n",
    "print(f\"Train Labels batch shape: {train_labels.size()}\\n\")\n",
    "\n",
    "valid_features, valid_labels = next(iter(valid_loader))\n",
    "print(f\"Valid Feature batch shape: {valid_features.size()}\")\n",
    "print(f\"Valid Labels batch shape: {valid_labels.size()}\")"
   ]
  },
  {
   "cell_type": "code",
   "execution_count": null,
   "metadata": {},
   "outputs": [],
   "source": [
    "# for _input, label in valid_loader:\n",
    "#     print(tok.decode(_input[1]))\n",
    "#     print()\n",
    "#     print(tok.decode(label[1]))\n",
    "#     break"
   ]
  },
  {
   "cell_type": "code",
   "execution_count": 12,
   "metadata": {},
   "outputs": [],
   "source": [
    "def _decode(tokens, tokenizer=tok, batch=True):\n",
    "    # Remove padding tokens and decode\n",
    "    # tokens = tokens[tokens != -100]\n",
    "    if batch:\n",
    "        return tokenizer.batch_decode(tokens, skip_special_tokens=True)\n",
    "\n",
    "    return tokenizer.decode(tokens, skip_special_tokens=True)\n",
    "\n",
    "\n",
    "def _decode_error(tokens_i, tokens_j, tokenizer=tok):\n",
    "    \"\"\" \"\"\"\n",
    "    # Remove padding tokens\n",
    "    text_i = _decode(tokens_i)\n",
    "    text_j = _decode(tokens_j)\n",
    "\n",
    "    # print(text_i)\n",
    "    # print(text_j)\n",
    "\n",
    "    error = 0\n",
    "\n",
    "    len_i = len(tokens_i)\n",
    "    len_j = len(tokens_j)\n",
    "    total_tokens = max(len_i, len_j)\n",
    "\n",
    "    diff_shape = abs(len_i - len_j)\n",
    "\n",
    "    error += diff_shape\n",
    "\n",
    "    for i in range(min(len_i, len_j)):\n",
    "        if text_i[i] != text_j[i]:\n",
    "            error += 1\n",
    "\n",
    "    return (error, total_tokens, error / total_tokens)"
   ]
  },
  {
   "cell_type": "code",
   "execution_count": null,
   "metadata": {},
   "outputs": [],
   "source": [
    "_decode_error(valid_features[1], valid_labels[1])"
   ]
  },
  {
   "cell_type": "code",
   "execution_count": null,
   "metadata": {},
   "outputs": [],
   "source": [
    "for _input, label in valid_loader:\n",
    "    _input_text = tok.decode(_input[0], skip_special_tokens=True)\n",
    "    label_text = tok.decode(label[0], skip_special_tokens=True)\n",
    "    model_output = model.generate(_input.to(device), max_length=MAX_LENGTH)[0]\n",
    "\n",
    "    print(\"Input: %s\" % _input_text)\n",
    "    print(\"Expected Output: %s\" % label_text)\n",
    "    print(\"Model Output: %s\" % tok.decode(model_output, skip_special_tokens=True))\n",
    "    a, b, percentage = _decode_error(_input[0], model_output.to(\"cpu\"))\n",
    "    print(\"Error rate per token: %.3f\" % percentage)\n",
    "    print(a, b)\n",
    "\n",
    "    break"
   ]
  },
  {
   "cell_type": "code",
   "execution_count": null,
   "metadata": {},
   "outputs": [],
   "source": [
    "from tqdm.auto import tqdm\n",
    "\n",
    "error_tokens = 0\n",
    "total_tokens = 0\n",
    "\n",
    "for _input, label in tqdm(valid_loader):\n",
    "    model_output = model.generate(_input.to(device), max_length=MAX_LENGTH)\n",
    "\n",
    "    for i in range(len(model_output)):\n",
    "        a, b, percentage = _decode_error(label[i], model_output[i].to(\"cpu\"))\n",
    "        error_tokens += a\n",
    "        total_tokens += b\n",
    "\n",
    "print(\"Total tokens analyzed: %d\" % total_tokens)\n",
    "print(\"Total erroneous tokens predicted: %d\" % error_tokens)\n",
    "print(\"Percentage of error: %.3f%%\" % (error_tokens / total_tokens * 100))"
   ]
  },
  {
   "cell_type": "code",
   "execution_count": 13,
   "metadata": {},
   "outputs": [],
   "source": [
    "from tqdm.auto import tqdm\n",
    "\n",
    "\n",
    "def _decode_error_epoch(model, valid_dataset, debug=False):\n",
    "    error_tokens = 0\n",
    "    total_tokens = 0\n",
    "\n",
    "    with torch.no_grad():\n",
    "        for _input, label in tqdm(valid_dataset, desc=\"Analyzing decoder error\"):\n",
    "            model_output = model.generate(_input.to(device), max_length=MAX_LENGTH)\n",
    "\n",
    "            for i in range(len(model_output)):\n",
    "                a, b, percentage = _decode_error(label[i], model_output[i].to(\"cpu\"))\n",
    "                error_tokens += a\n",
    "                total_tokens += b\n",
    "\n",
    "        if debug:\n",
    "            print(\"Total tokens analyzed: %d\" % total_tokens)\n",
    "            print(\"Total erroneous tokens predicted: %d\" % error_tokens)\n",
    "            print(\"Percentage of error: %.3f%%\" % ((error_tokens / total_tokens) * 100))\n",
    "\n",
    "        return error_tokens, total_tokens, error_tokens / total_tokens"
   ]
  },
  {
   "cell_type": "code",
   "execution_count": null,
   "metadata": {},
   "outputs": [],
   "source": [
    "_decode_error_epoch(model, valid_loader)"
   ]
  },
  {
   "cell_type": "code",
   "execution_count": 15,
   "metadata": {},
   "outputs": [],
   "source": [
    "# Setup\n",
    "from transformers import AdamW, get_scheduler\n",
    "\n",
    "epochs = 15\n",
    "epoch_accuracy_frequency = 5  # if epoch % accuracy -> compute\n",
    "loss_epoch = []\n",
    "lr = 1e-4\n",
    "cross = torch.nn.CrossEntropyLoss()\n",
    "optimizer = torch.optim.Adam(model.parameters(), lr=lr)"
   ]
  },
  {
   "cell_type": "code",
   "execution_count": 16,
   "metadata": {},
   "outputs": [
    {
     "data": {
      "application/vnd.jupyter.widget-view+json": {
       "model_id": "2751e73bed784b2b88b06070b809868d",
       "version_major": 2,
       "version_minor": 0
      },
      "text/plain": [
       "Epochs:   0%|          | 0/15 [00:00<?, ?it/s]"
      ]
     },
     "metadata": {},
     "output_type": "display_data"
    },
    {
     "data": {
      "application/vnd.jupyter.widget-view+json": {
       "model_id": "31599c173842479c87e70b7084c5770f",
       "version_major": 2,
       "version_minor": 0
      },
      "text/plain": [
       "Analyzing decoder error:   0%|          | 0/40 [00:00<?, ?it/s]"
      ]
     },
     "metadata": {},
     "output_type": "display_data"
    },
    {
     "name": "stdout",
     "output_type": "stream",
     "text": [
      "Total tokens analyzed: 10240\n",
      "Total erroneous tokens predicted: 9476\n",
      "Percentage of error: 92.539%\n",
      "EPOCH 1\n"
     ]
    },
    {
     "data": {
      "application/vnd.jupyter.widget-view+json": {
       "model_id": "e31db603b8e44bbc9c7a2b1e2f64ca8b",
       "version_major": 2,
       "version_minor": 0
      },
      "text/plain": [
       "  0%|          | 0/160 [00:00<?, ?it/s]"
      ]
     },
     "metadata": {},
     "output_type": "display_data"
    },
    {
     "name": "stdout",
     "output_type": "stream",
     "text": [
      "EPOCH 2\n"
     ]
    },
    {
     "data": {
      "application/vnd.jupyter.widget-view+json": {
       "model_id": "92ab3f0bf981496d82853e67a369d02d",
       "version_major": 2,
       "version_minor": 0
      },
      "text/plain": [
       "  0%|          | 0/160 [00:00<?, ?it/s]"
      ]
     },
     "metadata": {},
     "output_type": "display_data"
    },
    {
     "name": "stdout",
     "output_type": "stream",
     "text": [
      "EPOCH 3\n"
     ]
    },
    {
     "data": {
      "application/vnd.jupyter.widget-view+json": {
       "model_id": "8516b0cb8c99473d8c5ac2c4b7ac50ba",
       "version_major": 2,
       "version_minor": 0
      },
      "text/plain": [
       "  0%|          | 0/160 [00:00<?, ?it/s]"
      ]
     },
     "metadata": {},
     "output_type": "display_data"
    },
    {
     "name": "stdout",
     "output_type": "stream",
     "text": [
      "EPOCH 4\n"
     ]
    },
    {
     "data": {
      "application/vnd.jupyter.widget-view+json": {
       "model_id": "8d7af11a286b4117904fd0b4da8b333a",
       "version_major": 2,
       "version_minor": 0
      },
      "text/plain": [
       "  0%|          | 0/160 [00:00<?, ?it/s]"
      ]
     },
     "metadata": {},
     "output_type": "display_data"
    },
    {
     "name": "stdout",
     "output_type": "stream",
     "text": [
      "EPOCH 5\n"
     ]
    },
    {
     "data": {
      "application/vnd.jupyter.widget-view+json": {
       "model_id": "6ba4731736ce4cf096e395c1f0cab29e",
       "version_major": 2,
       "version_minor": 0
      },
      "text/plain": [
       "  0%|          | 0/160 [00:00<?, ?it/s]"
      ]
     },
     "metadata": {},
     "output_type": "display_data"
    },
    {
     "data": {
      "application/vnd.jupyter.widget-view+json": {
       "model_id": "1eb5718de6d54978962666ee1594b015",
       "version_major": 2,
       "version_minor": 0
      },
      "text/plain": [
       "Analyzing decoder error:   0%|          | 0/40 [00:00<?, ?it/s]"
      ]
     },
     "metadata": {},
     "output_type": "display_data"
    },
    {
     "name": "stdout",
     "output_type": "stream",
     "text": [
      "Total tokens analyzed: 10240\n",
      "Total erroneous tokens predicted: 9193\n",
      "Percentage of error: 89.775%\n",
      "EPOCH 6\n"
     ]
    },
    {
     "data": {
      "application/vnd.jupyter.widget-view+json": {
       "model_id": "02acf8ad91934d91a9d73b2dc3977325",
       "version_major": 2,
       "version_minor": 0
      },
      "text/plain": [
       "  0%|          | 0/160 [00:00<?, ?it/s]"
      ]
     },
     "metadata": {},
     "output_type": "display_data"
    },
    {
     "name": "stdout",
     "output_type": "stream",
     "text": [
      "EPOCH 7\n"
     ]
    },
    {
     "data": {
      "application/vnd.jupyter.widget-view+json": {
       "model_id": "5b6ea8c1c3084eb5b5d0f0ca9657b693",
       "version_major": 2,
       "version_minor": 0
      },
      "text/plain": [
       "  0%|          | 0/160 [00:00<?, ?it/s]"
      ]
     },
     "metadata": {},
     "output_type": "display_data"
    },
    {
     "name": "stdout",
     "output_type": "stream",
     "text": [
      "EPOCH 8\n"
     ]
    },
    {
     "data": {
      "application/vnd.jupyter.widget-view+json": {
       "model_id": "62bdcf65af7942b79c288aa48c706615",
       "version_major": 2,
       "version_minor": 0
      },
      "text/plain": [
       "  0%|          | 0/160 [00:00<?, ?it/s]"
      ]
     },
     "metadata": {},
     "output_type": "display_data"
    },
    {
     "name": "stdout",
     "output_type": "stream",
     "text": [
      "EPOCH 9\n"
     ]
    },
    {
     "data": {
      "application/vnd.jupyter.widget-view+json": {
       "model_id": "7a1f1679d74340bba9f56fe916b8c114",
       "version_major": 2,
       "version_minor": 0
      },
      "text/plain": [
       "  0%|          | 0/160 [00:00<?, ?it/s]"
      ]
     },
     "metadata": {},
     "output_type": "display_data"
    },
    {
     "name": "stdout",
     "output_type": "stream",
     "text": [
      "EPOCH 10\n"
     ]
    },
    {
     "data": {
      "application/vnd.jupyter.widget-view+json": {
       "model_id": "7105d687045a47679eab8bd219fbcaa1",
       "version_major": 2,
       "version_minor": 0
      },
      "text/plain": [
       "  0%|          | 0/160 [00:00<?, ?it/s]"
      ]
     },
     "metadata": {},
     "output_type": "display_data"
    },
    {
     "data": {
      "application/vnd.jupyter.widget-view+json": {
       "model_id": "b1f67c679d984d4d8d325bf6044c2f12",
       "version_major": 2,
       "version_minor": 0
      },
      "text/plain": [
       "Analyzing decoder error:   0%|          | 0/40 [00:00<?, ?it/s]"
      ]
     },
     "metadata": {},
     "output_type": "display_data"
    },
    {
     "name": "stdout",
     "output_type": "stream",
     "text": [
      "Total tokens analyzed: 10240\n",
      "Total erroneous tokens predicted: 9575\n",
      "Percentage of error: 93.506%\n",
      "EPOCH 11\n"
     ]
    },
    {
     "data": {
      "application/vnd.jupyter.widget-view+json": {
       "model_id": "cf5b635559fe4e2b842dc6576c33dffe",
       "version_major": 2,
       "version_minor": 0
      },
      "text/plain": [
       "  0%|          | 0/160 [00:00<?, ?it/s]"
      ]
     },
     "metadata": {},
     "output_type": "display_data"
    },
    {
     "name": "stdout",
     "output_type": "stream",
     "text": [
      "EPOCH 12\n"
     ]
    },
    {
     "data": {
      "application/vnd.jupyter.widget-view+json": {
       "model_id": "7800eabd52564b7b88f822e5e4539c52",
       "version_major": 2,
       "version_minor": 0
      },
      "text/plain": [
       "  0%|          | 0/160 [00:00<?, ?it/s]"
      ]
     },
     "metadata": {},
     "output_type": "display_data"
    },
    {
     "name": "stdout",
     "output_type": "stream",
     "text": [
      "EPOCH 13\n"
     ]
    },
    {
     "data": {
      "application/vnd.jupyter.widget-view+json": {
       "model_id": "bf8db2cad46b4fd7a6187cc44a749281",
       "version_major": 2,
       "version_minor": 0
      },
      "text/plain": [
       "  0%|          | 0/160 [00:00<?, ?it/s]"
      ]
     },
     "metadata": {},
     "output_type": "display_data"
    },
    {
     "name": "stdout",
     "output_type": "stream",
     "text": [
      "EPOCH 14\n"
     ]
    },
    {
     "data": {
      "application/vnd.jupyter.widget-view+json": {
       "model_id": "ce2b8c23e4f94e4da2e9db021fad37bc",
       "version_major": 2,
       "version_minor": 0
      },
      "text/plain": [
       "  0%|          | 0/160 [00:00<?, ?it/s]"
      ]
     },
     "metadata": {},
     "output_type": "display_data"
    },
    {
     "name": "stdout",
     "output_type": "stream",
     "text": [
      "EPOCH 15\n"
     ]
    },
    {
     "data": {
      "application/vnd.jupyter.widget-view+json": {
       "model_id": "fd52ea4cd9b54f2086c3811e4c8b96d8",
       "version_major": 2,
       "version_minor": 0
      },
      "text/plain": [
       "  0%|          | 0/160 [00:00<?, ?it/s]"
      ]
     },
     "metadata": {},
     "output_type": "display_data"
    },
    {
     "data": {
      "application/vnd.jupyter.widget-view+json": {
       "model_id": "84796b3455694ed38b2d4a1f8db10c0e",
       "version_major": 2,
       "version_minor": 0
      },
      "text/plain": [
       "Analyzing decoder error:   0%|          | 0/40 [00:00<?, ?it/s]"
      ]
     },
     "metadata": {},
     "output_type": "display_data"
    },
    {
     "name": "stdout",
     "output_type": "stream",
     "text": [
      "Total tokens analyzed: 10240\n",
      "Total erroneous tokens predicted: 9680\n",
      "Percentage of error: 94.531%\n"
     ]
    }
   ],
   "source": [
    "# Train\n",
    "\n",
    "from tqdm.auto import tqdm\n",
    "\n",
    "pbar = tqdm(range(1, epochs + 1), desc=\"Epochs\")\n",
    "decoder_error = []\n",
    "\n",
    "decoder_error.append(_decode_error_epoch(model, valid_loader, debug=True))\n",
    "\n",
    "for epoch in pbar:\n",
    "    epoch_loss = 0\n",
    "\n",
    "    pbar.set_description(\"Epoch %s\" % epoch)\n",
    "    pbar.refresh()\n",
    "\n",
    "    print(\"EPOCH %d\" % epoch)\n",
    "\n",
    "    for _input, label in tqdm(train_loader):\n",
    "        model.zero_grad()\n",
    "\n",
    "        _dt = model(_input.to(device), return_dict=True)\n",
    "\n",
    "        logits = _dt.logits\n",
    "        loss = cross(logits.view(-1, logits.size(-1)), label.to(device).view(-1))\n",
    "\n",
    "        epoch_loss += loss.item()\n",
    "\n",
    "        loss.backward()\n",
    "        optimizer.step()\n",
    "\n",
    "    if epoch % epoch_accuracy_frequency == 0:\n",
    "        decoder_error.append(_decode_error_epoch(model, valid_loader, debug=True))\n",
    "\n",
    "    pbar.set_postfix(loss=epoch_loss)\n",
    "    loss_epoch.append(epoch_loss)\n",
    "\n",
    "    torch.cuda.empty_cache()"
   ]
  },
  {
   "cell_type": "code",
   "execution_count": 17,
   "metadata": {},
   "outputs": [
    {
     "data": {
      "text/plain": [
       "[<matplotlib.lines.Line2D at 0x1935e8c6020>]"
      ]
     },
     "execution_count": 17,
     "metadata": {},
     "output_type": "execute_result"
    },
    {
     "data": {
      "image/png": "[encoded data removed]",
      "text/plain": [
       "<Figure size 640x480 with 1 Axes>"
      ]
     },
     "metadata": {},
     "output_type": "display_data"
    }
   ],
   "source": [
    "import matplotlib.pyplot as plt\n",
    "\n",
    "plt.title(\"Transformer Loss\")\n",
    "plt.xlabel(\"Epoch\")\n",
    "plt.ylabel(\"Loss\")\n",
    "plt.xticks(range(epochs + 1))\n",
    "plt.plot(loss_epoch)"
   ]
  },
  {
   "cell_type": "code",
   "execution_count": 23,
   "metadata": {},
   "outputs": [
    {
     "data": {
      "text/plain": [
       "3.0"
      ]
     },
     "execution_count": 23,
     "metadata": {},
     "output_type": "execute_result"
    }
   ],
   "source": [
    "epochs / epoch_accuracy_frequency"
   ]
  },
  {
   "cell_type": "code",
   "execution_count": 41,
   "metadata": {},
   "outputs": [
    {
     "data": {
      "text/plain": [
       "[<matplotlib.lines.Line2D at 0x194417f5450>]"
      ]
     },
     "execution_count": 41,
     "metadata": {},
     "output_type": "execute_result"
    },
    {
     "data": {
      "image/png": "[encoded data removed]",
      "text/plain": [
       "<Figure size 640x480 with 1 Axes>"
      ]
     },
     "metadata": {},
     "output_type": "display_data"
    }
   ],
   "source": [
    "import matplotlib.pyplot as plt\n",
    "\n",
    "plt.title(\"Decoder Error\")\n",
    "plt.xlabel(\"Epoch\")\n",
    "plt.ylabel(\"token error rate\")\n",
    "plt.xticks(\n",
    "    list(map(lambda i: i * epoch_accuracy_frequency, list(range(len(decoder_error)))))\n",
    ")\n",
    "plt.plot(\n",
    "    list(map(lambda i: i * epoch_accuracy_frequency, list(range(len(decoder_error))))),\n",
    "    [i[2] for i in decoder_error],\n",
    ")"
   ]
  }
 ],
 "metadata": {
  "kernelspec": {
   "display_name": "venv",
   "language": "python",
   "name": "python3"
  },
  "language_info": {
   "codemirror_mode": {
    "name": "ipython",
    "version": 3
   },
   "file_extension": ".py",
   "mimetype": "text/x-python",
   "name": "python",
   "nbconvert_exporter": "python",
   "pygments_lexer": "ipython3",
   "version": "3.10.9"
  },
  "orig_nbformat": 4
 },
 "nbformat": 4,
 "nbformat_minor": 2
}
