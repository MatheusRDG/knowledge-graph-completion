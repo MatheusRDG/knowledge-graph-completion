{
 "cells": [
  {
   "attachments": {},
   "cell_type": "markdown",
   "metadata": {},
   "source": [
    "### Model Training Setup"
   ]
  },
  {
   "cell_type": "code",
   "execution_count": 1,
   "metadata": {},
   "outputs": [
    {
     "data": {
      "text/html": [
       "\n",
       "                <script type=\"application/javascript\" id=\"jupyter_black\">\n",
       "                (function() {\n",
       "                    if (window.IPython === undefined) {\n",
       "                        return\n",
       "                    }\n",
       "                    var msg = \"WARNING: it looks like you might have loaded \" +\n",
       "                        \"jupyter_black in a non-lab notebook with \" +\n",
       "                        \"`is_lab=True`. Please double check, and if \" +\n",
       "                        \"loading with `%load_ext` please review the README!\"\n",
       "                    console.log(msg)\n",
       "                    alert(msg)\n",
       "                })()\n",
       "                </script>\n",
       "                "
      ],
      "text/plain": [
       "<IPython.core.display.HTML object>"
      ]
     },
     "metadata": {},
     "output_type": "display_data"
    }
   ],
   "source": [
    "%load_ext autoreload\n",
    "%autoreload 2\n",
    "%load_ext jupyter_black"
   ]
  },
  {
   "cell_type": "code",
   "execution_count": 2,
   "metadata": {},
   "outputs": [
    {
     "name": "stdout",
     "output_type": "stream",
     "text": [
      "c:\\Users\\Matheus\\Documents\\Git\\knowledge-graph-completion\n"
     ]
    }
   ],
   "source": [
    "cd .."
   ]
  },
  {
   "attachments": {},
   "cell_type": "markdown",
   "metadata": {},
   "source": [
    "#### Bart Example"
   ]
  },
  {
   "cell_type": "code",
   "execution_count": 3,
   "metadata": {},
   "outputs": [],
   "source": [
    "# from transformers import BartForConditionalGeneration, BartTokenizer\n",
    "\n",
    "# model = BartForConditionalGeneration.from_pretrained(\"facebook/bart-large\", forced_bos_token_id=0)\n",
    "# tok = BartTokenizer.from_pretrained(\"facebook/bart-large\")"
   ]
  },
  {
   "cell_type": "code",
   "execution_count": 4,
   "metadata": {},
   "outputs": [],
   "source": [
    "# example_english_phrase = \"Dominican Republic has form of government of <mask>\"\n",
    "# batch = tok(example_english_phrase, return_tensors=\"pt\")\n",
    "# generated_ids = model.generate(batch[\"input_ids\"])\n",
    "# tok.batch_decode(generated_ids, skip_special_tokens=True)"
   ]
  },
  {
   "attachments": {},
   "cell_type": "markdown",
   "metadata": {},
   "source": [
    "### Load data"
   ]
  },
  {
   "cell_type": "code",
   "execution_count": 5,
   "metadata": {},
   "outputs": [],
   "source": [
    "import pandas as pd\n",
    "from src.utils import load_fb15k237\n",
    "\n",
    "PATH_FB15k237 = \"data/datasets_knowledge_embedding/FB15k-237\"\n",
    "\n",
    "train, valid, test, entity2wikidata = load_fb15k237(PATH_FB15k237)\n",
    "processed_data = pd.read_csv(PATH_FB15k237 + \"/processed_data.csv\")"
   ]
  },
  {
   "cell_type": "markdown",
   "metadata": {},
   "source": [
    "### Load the model"
   ]
  },
  {
   "cell_type": "code",
   "execution_count": 6,
   "metadata": {},
   "outputs": [],
   "source": [
    "from transformers import (\n",
    "    BartForConditionalGeneration,\n",
    "    BartTokenizer,\n",
    "    BartConfig,\n",
    "    DataCollatorForSeq2Seq,\n",
    ")\n",
    "\n",
    "MAX_LENGHT = 512\n",
    "MODEL = \"facebook/bart-base\"\n",
    "\n",
    "tok = BartTokenizer.from_pretrained(\"facebook/bart-large\")"
   ]
  },
  {
   "attachments": {},
   "cell_type": "markdown",
   "metadata": {},
   "source": [
    "### Some tests"
   ]
  },
  {
   "cell_type": "code",
   "execution_count": 7,
   "metadata": {},
   "outputs": [],
   "source": [
    "sample = processed_data.iloc[5]"
   ]
  },
  {
   "cell_type": "code",
   "execution_count": 8,
   "metadata": {},
   "outputs": [
    {
     "data": {
      "text/plain": [
       "'Sunderland A.F.C. has position of defender. A.S. Roma has position of forward. Maldives national football teamhas position of forward.'"
      ]
     },
     "execution_count": 8,
     "metadata": {},
     "output_type": "execute_result"
    }
   ],
   "source": [
    "text_sample = sample.demonstration_input + sample.tail_text + \".\"\n",
    "text_sample"
   ]
  },
  {
   "cell_type": "code",
   "execution_count": 9,
   "metadata": {},
   "outputs": [
    {
     "data": {
      "text/plain": [
       "'forward'"
      ]
     },
     "execution_count": 9,
     "metadata": {},
     "output_type": "execute_result"
    }
   ],
   "source": [
    "to_mask = sample.tail_text\n",
    "to_mask"
   ]
  },
  {
   "cell_type": "code",
   "execution_count": 10,
   "metadata": {},
   "outputs": [
    {
     "name": "stdout",
     "output_type": "stream",
     "text": [
      "16135\n",
      "forward\n"
     ]
    }
   ],
   "source": [
    "ids_to_mask = tok.convert_tokens_to_ids(to_mask)\n",
    "print(ids_to_mask)\n",
    "print(tok.convert_ids_to_tokens(ids_to_mask))"
   ]
  },
  {
   "cell_type": "code",
   "execution_count": 11,
   "metadata": {},
   "outputs": [
    {
     "name": "stdout",
     "output_type": "stream",
     "text": [
      "[0, 118, 236, 7, 11445, 20920, 232, 2, 1, 1]\n",
      "[0, 118, 236, 7, 11445, 50264, 2, 1, 1, 1]\n"
     ]
    }
   ],
   "source": [
    "print(\n",
    "    tok.encode(\n",
    "        \"i want to mask Hello world\",\n",
    "        add_special_tokens=True,\n",
    "        max_length=MAX_LENGHT,\n",
    "        truncation=True,\n",
    "        padding=\"max_length\",\n",
    "    )[:10]\n",
    ")\n",
    "\n",
    "print(\n",
    "    tok.encode(\n",
    "        \"i want to mask <mask>\",\n",
    "        add_special_tokens=True,\n",
    "        max_length=MAX_LENGHT,\n",
    "        truncation=True,\n",
    "        padding=\"max_length\",\n",
    "    )[:10]\n",
    ")"
   ]
  },
  {
   "cell_type": "code",
   "execution_count": 12,
   "metadata": {},
   "outputs": [
    {
     "name": "stdout",
     "output_type": "stream",
     "text": [
      "['<s>', '</s>', '<unk>', '<pad>', '<mask>']\n",
      "[0, 2, 3, 1, 50264]\n"
     ]
    }
   ],
   "source": [
    "print(tok.all_special_tokens)\n",
    "print(tok.all_special_ids)"
   ]
  },
  {
   "cell_type": "code",
   "execution_count": 13,
   "metadata": {},
   "outputs": [
    {
     "data": {
      "text/plain": [
       "50264"
      ]
     },
     "execution_count": 13,
     "metadata": {},
     "output_type": "execute_result"
    }
   ],
   "source": [
    "tok.mask_token_id"
   ]
  },
  {
   "cell_type": "markdown",
   "metadata": {},
   "source": [
    "### Masking data"
   ]
  },
  {
   "cell_type": "code",
   "execution_count": 14,
   "metadata": {},
   "outputs": [],
   "source": [
    "processed_data[\"data_input\"] = processed_data[\"demonstration_input\"] + \"<mask>.\"\n",
    "processed_data[\"data_label\"] = (\n",
    "    processed_data[\"demonstration_input\"] + processed_data[\"tail_text\"] + \".\"\n",
    ")"
   ]
  },
  {
   "cell_type": "code",
   "execution_count": 15,
   "metadata": {},
   "outputs": [],
   "source": [
    "# pd.set_option(\"display.max_colwidth\", None)\n",
    "\n",
    "# processed_data[[\"data_input\", \"data_label\"]].head()"
   ]
  },
  {
   "cell_type": "code",
   "execution_count": 16,
   "metadata": {},
   "outputs": [],
   "source": [
    "# tok.convert_ids_to_tokens(tok.encode(processed_data[\"data_input\"].iloc[0]))"
   ]
  },
  {
   "cell_type": "code",
   "execution_count": 17,
   "metadata": {},
   "outputs": [],
   "source": [
    "# Debug\n",
    "processed_data_dev = processed_data.head(10000)"
   ]
  },
  {
   "cell_type": "code",
   "execution_count": 18,
   "metadata": {},
   "outputs": [],
   "source": [
    "from transformers import DataCollatorForLanguageModeling\n",
    "\n",
    "# Codifica as strings de entrada e rótulos como sequências de tokens BART\n",
    "encoded_input = tok(\n",
    "    list(processed_data_dev[\"data_input\"]),\n",
    "    padding=True,\n",
    "    truncation=True,\n",
    "    return_tensors=\"pt\",\n",
    ")\n",
    "encoded_label = tok(\n",
    "    list(processed_data_dev[\"data_label\"]),\n",
    "    padding=True,\n",
    "    truncation=True,\n",
    "    return_tensors=\"pt\",\n",
    ")\n",
    "\n",
    "# Cria uma lista de exemplos\n",
    "examples = []\n",
    "for i in range(len(processed_data_dev)):\n",
    "    input_ids = encoded_input[\"input_ids\"][i]\n",
    "    attention_mask = encoded_input[\"attention_mask\"][i]\n",
    "    labels = encoded_label[\"input_ids\"][i]\n",
    "    examples.append(\n",
    "        {\"input_ids\": input_ids, \"attention_mask\": attention_mask, \"labels\": labels}\n",
    "    )\n",
    "\n",
    "# Cria um objeto DataCollatorForLanguageModeling\n",
    "data_collator = DataCollatorForLanguageModeling(tokenizer=tok, mlm=False)\n",
    "\n",
    "# Prepara os dados de treinamento\n",
    "prepared_data = data_collator(examples)"
   ]
  },
  {
   "cell_type": "code",
   "execution_count": 19,
   "metadata": {},
   "outputs": [],
   "source": [
    "# list(\n",
    "#     filter(\n",
    "#         lambda i: i != \"<pad>\", tok.convert_ids_to_tokens(prepared_data[\"input_ids\"][0])\n",
    "#     )\n",
    "# )"
   ]
  },
  {
   "cell_type": "code",
   "execution_count": 20,
   "metadata": {},
   "outputs": [],
   "source": [
    "# prepared_data.items()"
   ]
  },
  {
   "attachments": {},
   "cell_type": "markdown",
   "metadata": {},
   "source": [
    "### Training Model"
   ]
  },
  {
   "cell_type": "code",
   "execution_count": 21,
   "metadata": {},
   "outputs": [],
   "source": [
    "from transformers import AdamW, get_scheduler\n",
    "from torch.utils.data import DataLoader\n",
    "import torch\n",
    "\n",
    "device = torch.device(\"cuda\" if torch.cuda.is_available() else \"cpu\")"
   ]
  },
  {
   "cell_type": "code",
   "execution_count": 22,
   "metadata": {},
   "outputs": [],
   "source": [
    "from torch.utils.data import Dataset\n",
    "import copy\n",
    "import random\n",
    "\n",
    "\n",
    "class DatasetKGC(Dataset):\n",
    "    def __init__(self, data):\n",
    "        self.data = data\n",
    "        self.data[\"input_ids\"] = self.data[\"input_ids\"].to(device)\n",
    "        self.data[\"labels\"] = self.data[\"input_ids\"].to(device)\n",
    "        self.num_rows = len(data)\n",
    "\n",
    "    def __len__(self):\n",
    "        return self.num_rows\n",
    "\n",
    "    def __getitem__(self, idx):\n",
    "        _input = self.data[\"input_ids\"][idx].squeeze(0)\n",
    "        label = self.data[\"labels\"][idx].squeeze(0)\n",
    "        # attention_mask = self.data[\"attention_mask\"].squeeze(0)\n",
    "\n",
    "        return (_input, label)"
   ]
  },
  {
   "cell_type": "code",
   "execution_count": 23,
   "metadata": {},
   "outputs": [],
   "source": [
    "import os\n",
    "\n",
    "batch_size = 8\n",
    "data_loader = DataLoader(DatasetKGC(prepared_data), batch_size=batch_size, shuffle=True)"
   ]
  },
  {
   "cell_type": "code",
   "execution_count": 24,
   "metadata": {},
   "outputs": [],
   "source": [
    "# model = BartForConditionalGeneration.from_pretrained(\"lucadiliello/bart-small\").to(\n",
    "#     device\n",
    "# )\n",
    "\n",
    "model = BartForConditionalGeneration.from_pretrained(MODEL).to(device)"
   ]
  },
  {
   "cell_type": "code",
   "execution_count": 25,
   "metadata": {},
   "outputs": [
    {
     "name": "stdout",
     "output_type": "stream",
     "text": [
      "Epoch 0\n",
      "Epoch 1\n",
      "Epoch 2\n",
      "Epoch 3\n",
      "Epoch 4\n",
      "Epoch 5\n",
      "Epoch 6\n",
      "Epoch 7\n",
      "Epoch 8\n",
      "Epoch 9\n",
      "Epoch 10\n",
      "Epoch 11\n",
      "Epoch 12\n",
      "Epoch 13\n",
      "Epoch 14\n"
     ]
    }
   ],
   "source": [
    "# Setup\n",
    "epochs = 15\n",
    "loss_epoch = []\n",
    "lr = 1e-3\n",
    "cross = torch.nn.CrossEntropyLoss()\n",
    "optimizer = torch.optim.Adam(model.parameters(), lr=lr)\n",
    "\n",
    "for epoch in range(epochs):\n",
    "    epoch_loss = 0\n",
    "    print(\"Epoch %d\" % epoch)\n",
    "    for _input, label in data_loader:\n",
    "        model.zero_grad()\n",
    "        _dt = model(_input, return_dict=True)\n",
    "        logits = _dt.logits\n",
    "        loss = cross(logits.view(-1, logits.size(-1)), label.view(-1))\n",
    "        epoch_loss += loss.item()\n",
    "        loss.backward()\n",
    "        optimizer.step()\n",
    "    torch.cuda.empty_cache()\n",
    "    loss_epoch.append(epoch_loss)"
   ]
  },
  {
   "cell_type": "code",
   "execution_count": 26,
   "metadata": {},
   "outputs": [],
   "source": [
    "torch.cuda.empty_cache()"
   ]
  },
  {
   "cell_type": "code",
   "execution_count": 27,
   "metadata": {},
   "outputs": [
    {
     "data": {
      "text/plain": [
       "[<matplotlib.lines.Line2D at 0x1ee70090b50>]"
      ]
     },
     "execution_count": 27,
     "metadata": {},
     "output_type": "execute_result"
    },
    {
     "data": {
      "image/png": "[encoded data removed]",
      "text/plain": [
       "<Figure size 640x480 with 1 Axes>"
      ]
     },
     "metadata": {},
     "output_type": "display_data"
    }
   ],
   "source": [
    "import matplotlib.pyplot as plt\n",
    "\n",
    "plt.title(\"Transformer Loss\")\n",
    "plt.xlabel(\"Epoch\")\n",
    "plt.ylabel(\"Loss\")\n",
    "plt.plot(loss_epoch)"
   ]
  },
  {
   "cell_type": "code",
   "execution_count": 28,
   "metadata": {},
   "outputs": [
    {
     "data": {
      "text/plain": [
       "[7.521730422973633,\n",
       " 13.440181732177734,\n",
       " 10.847399711608887,\n",
       " 9.549077987670898,\n",
       " 9.380145072937012,\n",
       " 8.326635360717773,\n",
       " 7.128264427185059,\n",
       " 6.277518272399902,\n",
       " 5.950900077819824,\n",
       " 5.4516282081604,\n",
       " 4.624149322509766,\n",
       " 3.7382192611694336,\n",
       " 3.578526735305786,\n",
       " 3.4656214714050293,\n",
       " 3.4571926593780518]"
      ]
     },
     "execution_count": 28,
     "metadata": {},
     "output_type": "execute_result"
    }
   ],
   "source": [
    "loss_epoch"
   ]
  },
  {
   "cell_type": "code",
   "execution_count": null,
   "metadata": {},
   "outputs": [],
   "source": []
  }
 ],
 "metadata": {
  "kernelspec": {
   "display_name": "venv",
   "language": "python",
   "name": "python3"
  },
  "language_info": {
   "codemirror_mode": {
    "name": "ipython",
    "version": 3
   },
   "file_extension": ".py",
   "mimetype": "text/x-python",
   "name": "python",
   "nbconvert_exporter": "python",
   "pygments_lexer": "ipython3",
   "version": "3.10.9"
  },
  "orig_nbformat": 4
 },
 "nbformat": 4,
 "nbformat_minor": 2
}
