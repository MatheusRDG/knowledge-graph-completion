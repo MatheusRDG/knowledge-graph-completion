{
 "cells": [
  {
   "attachments": {},
   "cell_type": "markdown",
   "metadata": {},
   "source": [
    "### Model Training Setup"
   ]
  },
  {
   "cell_type": "code",
   "execution_count": 2,
   "metadata": {},
   "outputs": [
    {
     "data": {
      "text/html": [
       "\n",
       "                <script type=\"application/javascript\" id=\"jupyter_black\">\n",
       "                (function() {\n",
       "                    if (window.IPython === undefined) {\n",
       "                        return\n",
       "                    }\n",
       "                    var msg = \"WARNING: it looks like you might have loaded \" +\n",
       "                        \"jupyter_black in a non-lab notebook with \" +\n",
       "                        \"`is_lab=True`. Please double check, and if \" +\n",
       "                        \"loading with `%load_ext` please review the README!\"\n",
       "                    console.log(msg)\n",
       "                    alert(msg)\n",
       "                })()\n",
       "                </script>\n",
       "                "
      ],
      "text/plain": [
       "<IPython.core.display.HTML object>"
      ]
     },
     "metadata": {},
     "output_type": "display_data"
    }
   ],
   "source": [
    "%load_ext autoreload\n",
    "%autoreload 2\n",
    "%load_ext jupyter_black"
   ]
  },
  {
   "attachments": {},
   "cell_type": "markdown",
   "metadata": {},
   "source": [
    "### Load the model"
   ]
  },
  {
   "cell_type": "code",
   "execution_count": 184,
   "metadata": {},
   "outputs": [],
   "source": [
    "from transformers import (\n",
    "    BartForConditionalGeneration,\n",
    "    BartTokenizer,\n",
    "    DataCollatorForSeq2Seq,\n",
    ")\n",
    "\n",
    "import torch\n",
    "\n",
    "device = torch.device(\"cuda\" if torch.cuda.is_available() else \"cpu\")\n",
    "\n",
    "MODEL = \"../model/bart_base_colab_DECODE_ONLY_LABEL/checkpoint_final\"\n",
    "PATH_FB15k237 = \"../data/datasets_knowledge_embedding/FB15k-237/\"\n",
    "# Load model and tokenizer\n",
    "model = BartForConditionalGeneration.from_pretrained(MODEL).cuda().float().to(device)\n",
    "tokenizer = BartTokenizer.from_pretrained(MODEL)"
   ]
  },
  {
   "attachments": {},
   "cell_type": "markdown",
   "metadata": {},
   "source": [
    "### Load Data"
   ]
  },
  {
   "cell_type": "code",
   "execution_count": 4,
   "metadata": {},
   "outputs": [],
   "source": [
    "from torch.utils.data import Dataset\n",
    "import copy\n",
    "import random\n",
    "from sklearn.model_selection import train_test_split\n",
    "from torch.utils.data import DataLoader\n",
    "from transformers import DataCollatorForLanguageModeling, DataCollatorWithPadding\n",
    "from tqdm.auto import tqdm\n",
    "\n",
    "\n",
    "random.seed(42)\n",
    "\n",
    "\n",
    "class DatasetKGC(Dataset):\n",
    "    def __init__(self, data):\n",
    "        self.data = data\n",
    "        self.data[\"input_ids\"] = self.data[\"input_ids\"]\n",
    "        self.data[\"labels\"] = self.data[\"labels\"]\n",
    "        self.num_rows = self.data[\"input_ids\"].shape[0]\n",
    "\n",
    "    def __len__(self):\n",
    "        return self.num_rows\n",
    "\n",
    "    def __getitem__(self, idx):\n",
    "        _input = self.data[\"input_ids\"][idx].squeeze(0)\n",
    "        label = self.data[\"labels\"][idx].squeeze(0)\n",
    "\n",
    "        return {\"input_ids\": _input, \"labels\": label}\n",
    "\n",
    "\n",
    "def encode_data(data):\n",
    "    # Codifica as strings de entrada e rótulos como sequências de tokens BART\n",
    "    encoded_input = tokenizer(\n",
    "        list(data[\"data_input\"]),\n",
    "        padding=\"max_length\",\n",
    "        truncation=True,\n",
    "        return_tensors=\"pt\",\n",
    "        max_length=MAX_LENGTH,\n",
    "        add_special_tokens=True,\n",
    "        return_attention_mask=False,\n",
    "    )\n",
    "    encoded_label = tokenizer(\n",
    "        list(data[\"data_label\"]),\n",
    "        padding=\"max_length\",\n",
    "        truncation=True,\n",
    "        return_tensors=\"pt\",\n",
    "        max_length=MAX_LENGTH,\n",
    "        add_special_tokens=True,\n",
    "        return_attention_mask=False,\n",
    "    )\n",
    "\n",
    "    # Cria uma lista de exemplos\n",
    "    examples = []\n",
    "    for i in range(len(data)):\n",
    "        input_ids = encoded_input[\"input_ids\"][i]\n",
    "        labels = encoded_label[\"input_ids\"][i]\n",
    "        examples.append({\"input_ids\": input_ids, \"labels\": labels})\n",
    "\n",
    "    # Cria um objeto DataCollatorForLanguageModeling\n",
    "    data_collator = DataCollatorWithPadding(\n",
    "        tokenizer=tokenizer, padding=\"max_length\", max_length=MAX_LENGTH\n",
    "    )\n",
    "\n",
    "    # Prepara os dados de treinamento\n",
    "    prepared_data = data_collator(examples)\n",
    "\n",
    "    return prepared_data\n",
    "\n",
    "\n",
    "def train_valid_split(data):\n",
    "    train, valid = train_test_split(data, test_size=0.2, random_state=42)\n",
    "    return encode_data(train), encode_data(valid)\n",
    "\n",
    "\n",
    "def generate_train_valid_dataloader(data):\n",
    "    train, valid = train_valid_split(data)\n",
    "\n",
    "    train_loader = DataLoader(DatasetKGC(train), batch_size=BATCH_SIZE, shuffle=False)\n",
    "\n",
    "    valid_loader = DataLoader(DatasetKGC(valid), batch_size=BATCH_SIZE, shuffle=False)\n",
    "\n",
    "    return train_loader, valid_loader\n",
    "\n",
    "\n",
    "def generate_train_valid_dataset(data):\n",
    "    train, valid = train_valid_split(data)\n",
    "\n",
    "    train_loader = DatasetKGC(train)\n",
    "\n",
    "    valid_loader = DatasetKGC(valid)\n",
    "\n",
    "    return train_loader, valid_loader\n",
    "\n",
    "\n",
    "def _decode(tokens, tokenizer=tokenizer, batch=True):\n",
    "    # Remove padding tokens and decode\n",
    "    # tokens = tokens[tokens != -100]\n",
    "    if batch:\n",
    "        return tokenizer.batch_decode(tokens, skip_special_tokens=True)\n",
    "\n",
    "    return tokenizer.decode(tokens, skip_special_tokens=True)\n",
    "\n",
    "\n",
    "def _decode_error(tokens_i, tokens_j, tokenizer=tokenizer):\n",
    "    \"\"\" \"\"\"\n",
    "    # Remove padding tokens\n",
    "    text_i = _decode(tokens_i)\n",
    "    text_j = _decode(tokens_j)\n",
    "\n",
    "    # print(text_i)\n",
    "    # print(text_j)\n",
    "\n",
    "    error = 0\n",
    "\n",
    "    len_i = len(tokens_i)\n",
    "    len_j = len(tokens_j)\n",
    "    total_tokens = max(len_i, len_j)\n",
    "\n",
    "    diff_shape = abs(len_i - len_j)\n",
    "\n",
    "    error += diff_shape\n",
    "\n",
    "    for i in range(min(len_i, len_j)):\n",
    "        if text_i[i] != text_j[i]:\n",
    "            error += 1\n",
    "\n",
    "    return (error, total_tokens, error / total_tokens)\n",
    "\n",
    "\n",
    "def _decode_error_epoch(model, valid_dataset, debug=False):\n",
    "    error_tokens = 0\n",
    "    total_tokens = 0\n",
    "\n",
    "    with torch.no_grad():\n",
    "        for _input, label in tqdm(valid_dataset, desc=\"Analyzing decoder error\"):\n",
    "            model_output = model.generate(_input.to(device), max_length=MAX_LENGTH)\n",
    "\n",
    "            for i in range(len(model_output)):\n",
    "                a, b, percentage = _decode_error(label[i], model_output[i].to(\"cpu\"))\n",
    "                error_tokens += a\n",
    "                total_tokens += b\n",
    "\n",
    "        if debug:\n",
    "            print(\"Total tokens analyzed: %d\" % total_tokens)\n",
    "            print(\"Total erroneous tokens predicted: %d\" % error_tokens)\n",
    "            print(\"Percentage of error: %.3f%%\" % ((error_tokens / total_tokens) * 100))\n",
    "\n",
    "        return error_tokens, total_tokens, error_tokens / total_tokens"
   ]
  },
  {
   "cell_type": "code",
   "execution_count": 5,
   "metadata": {},
   "outputs": [],
   "source": [
    "train_ds, valid_ds = (\n",
    "    torch.load(PATH_FB15k237 + \"/procesed_data_DECODE_ONLY_LABEL\" + \"_train_ds.pth\"),\n",
    "    torch.load(PATH_FB15k237 + \"/procesed_data_DECODE_ONLY_LABEL\" + \"_valid_ds.pth\"),\n",
    ")"
   ]
  },
  {
   "attachments": {},
   "cell_type": "markdown",
   "metadata": {},
   "source": [
    "### Evaluation"
   ]
  },
  {
   "cell_type": "code",
   "execution_count": 6,
   "metadata": {},
   "outputs": [],
   "source": [
    "MAX_LENGTH = 128"
   ]
  },
  {
   "cell_type": "code",
   "execution_count": 7,
   "metadata": {},
   "outputs": [],
   "source": [
    "valid_ds = valid_ds[0]"
   ]
  },
  {
   "cell_type": "code",
   "execution_count": 8,
   "metadata": {},
   "outputs": [
    {
     "name": "stdout",
     "output_type": "stream",
     "text": [
      "Sample input: \n",
      "<s>Geraldine Chaplin has place of birth of Santa Monica. Jerry Siegel has place of birth of Cleveland. John Michael Higgins has place of birth of<mask>.</s> \n",
      "\n",
      "Expected output: \n",
      "Boston \n",
      "\n",
      "Model Output: \n",
      "</s><s>Los Angeles</s>\n"
     ]
    }
   ],
   "source": [
    "with torch.no_grad():\n",
    "    print(\"Sample input: \")\n",
    "    print(tokenizer.decode(valid_ds[\"input_ids\"]).replace(\"<pad>\", \"\"), \"\\n\")\n",
    "\n",
    "    print(\"Expected output: \")\n",
    "    print(tokenizer.decode(valid_ds[\"labels\"], skip_special_tokens=True), \"\\n\")\n",
    "\n",
    "    print(\"Model Output: \")\n",
    "    print(\n",
    "        tokenizer.decode(\n",
    "            model.generate(\n",
    "                valid_ds[\"input_ids\"].to(device).reshape(1, -1), max_length=MAX_LENGTH\n",
    "            )[0]\n",
    "        )\n",
    "    )"
   ]
  },
  {
   "attachments": {},
   "cell_type": "markdown",
   "metadata": {},
   "source": [
    "### Hits\n",
    "\n",
    "This metric measure the distance between the representation of label and output tokens."
   ]
  },
  {
   "cell_type": "code",
   "execution_count": 117,
   "metadata": {},
   "outputs": [],
   "source": [
    "data = valid_ds[3]"
   ]
  },
  {
   "cell_type": "code",
   "execution_count": 156,
   "metadata": {},
   "outputs": [
    {
     "name": "stdout",
     "output_type": "stream",
     "text": [
      "Jackson\n"
     ]
    }
   ],
   "source": [
    "text_label = tokenizer.decode(data[\"labels\"], skip_special_tokens=True)\n",
    "print(text_label)\n",
    "\n",
    "embedding_label = model(\n",
    "    tokenizer.encode(\n",
    "        text_label, padding=\"max_length\", max_length=128, return_tensors=\"pt\"\n",
    "    )\n",
    "    .reshape(1, -1)\n",
    "    .to(device)\n",
    ").encoder_last_hidden_state\n",
    "embedding_label = torch.mean(embedding_label, dim=1)"
   ]
  },
  {
   "cell_type": "code",
   "execution_count": 171,
   "metadata": {},
   "outputs": [
    {
     "name": "stdout",
     "output_type": "stream",
     "text": [
      "Jackson\n"
     ]
    }
   ],
   "source": [
    "token_ids_output = model.generate(\n",
    "    data[\"input_ids\"].to(device).reshape(1, -1), max_length=MAX_LENGTH\n",
    ")[0]\n",
    "text_output = tokenizer.decode(token_ids_output, skip_special_tokens=True)\n",
    "print(text_output)\n",
    "\n",
    "embeddings_output = model(\n",
    "    tokenizer.encode(\n",
    "        text_output, padding=\"max_length\", max_length=128, return_tensors=\"pt\"\n",
    "    )\n",
    "    .to(device)\n",
    "    .reshape(1, -1)\n",
    ").encoder_last_hidden_state\n",
    "embeddings_output = torch.mean(embeddings_output, dim=1)"
   ]
  },
  {
   "cell_type": "code",
   "execution_count": 143,
   "metadata": {},
   "outputs": [],
   "source": [
    "import pandas as pd\n",
    "\n",
    "\n",
    "def cosine_similarity(embd_i, embd_j):\n",
    "    cos = torch.nn.CosineSimilarity(dim=1, eps=1e-6)\n",
    "    return cos(embd_i, embd_j)\n",
    "\n",
    "\n",
    "def hits_sim(model, tokenizer, valid_ds: dict):\n",
    "    results = []\n",
    "\n",
    "    data_size = valid_ds[\"input_ids\"].shape[0]\n",
    "\n",
    "    for i in range(data_size):\n",
    "        text_label = tokenizer.decode(valid_ds[\"labels\"][i], skip_special_tokens=True)\n",
    "        embedding_label = model(\n",
    "            tokenizer.encode(\n",
    "                text_label, padding=\"max_length\", max_length=128, return_tensors=\"pt\"\n",
    "            )\n",
    "            .reshape(1, -1)\n",
    "            .to(device)\n",
    "        ).encoder_last_hidden_state\n",
    "        embedding_label = torch.mean(embedding_label, dim=1)\n",
    "\n",
    "        token_ids_output = model.generate(\n",
    "            valid_ds[\"input_ids\"][i].to(device).reshape(1, -1), max_length=MAX_LENGTH\n",
    "        )[0]\n",
    "        text_output = tokenizer.decode(token_ids_output, skip_special_tokens=True)\n",
    "\n",
    "        embeddings_output = model(\n",
    "            tokenizer.encode(\n",
    "                text_output, padding=\"max_length\", max_length=128, return_tensors=\"pt\"\n",
    "            )\n",
    "            .to(device)\n",
    "            .reshape(1, -1)\n",
    "        ).encoder_last_hidden_state\n",
    "        embeddings_output = torch.mean(embeddings_output, dim=1)\n",
    "\n",
    "        similarity = cosine_similarity(embedding_label, embeddings_output)[0].item()\n",
    "\n",
    "        # print(\"Label: \", text_label)\n",
    "        # print(\"Output: \", text_output)\n",
    "        # print(\"Similarity: \", similarity)\n",
    "        # print(\"---------------------------------------------------------\")\n",
    "\n",
    "        results.append((text_label, text_output, similarity))\n",
    "\n",
    "    results = pd.DataFrame(results, columns=[\"label\", \"output\", \"similarity\"])\n",
    "    return results"
   ]
  },
  {
   "cell_type": "code",
   "execution_count": 144,
   "metadata": {},
   "outputs": [],
   "source": [
    "validation_batch = 50\n",
    "results = hits(model, tokenizer, valid_ds[:validation_batch])"
   ]
  },
  {
   "cell_type": "code",
   "execution_count": 233,
   "metadata": {},
   "outputs": [],
   "source": [
    "_t = tokenizer.decode(valid_ds[0][\"input_ids\"], skip_special_tokens=False)"
   ]
  },
  {
   "attachments": {},
   "cell_type": "markdown",
   "metadata": {},
   "source": [
    "### Original Hits Metric"
   ]
  },
  {
   "cell_type": "code",
   "execution_count": 280,
   "metadata": {},
   "outputs": [],
   "source": [
    "def training_data_to_text(input_ids, tokenizer=tokenizer):\n",
    "    text = tokenizer.decode(input_ids, skip_special_tokens=False)\n",
    "    # 3 -> len(<s>), 7 -> len(<mask>.)\n",
    "\n",
    "    return text[3 : text.find(tokenizer.mask_token) + 7]\n",
    "\n",
    "\n",
    "def generate_beam_search(model, tokenizer, text, beam_size=5, max_length=128):\n",
    "    # Text Example: My name is <mask>.\n",
    "    input_ids = tokenizer.encode(\n",
    "        text, padding=\"max_length\", max_length=max_length, return_tensors=\"pt\"\n",
    "    ).to(device)\n",
    "\n",
    "    beam_outputs = model.generate(\n",
    "        input_ids,\n",
    "        max_length=max_length,\n",
    "        num_beams=beam_size,\n",
    "        no_repeat_ngram_size=2,\n",
    "        num_return_sequences=beam_size,\n",
    "        early_stopping=True,\n",
    "    )\n",
    "\n",
    "    return [\n",
    "        tokenizer.decode(beam_output, skip_special_tokens=True)\n",
    "        for beam_output in beam_outputs\n",
    "    ]\n",
    "\n",
    "\n",
    "def compute_hits(model, tokenizer, valid_ds, beam_size=5, max_length=128, debug=False):\n",
    "    results = []\n",
    "    hits = 0\n",
    "    data_size = valid_ds[\"input_ids\"].shape[0]\n",
    "\n",
    "    for i in range(data_size):\n",
    "        text = training_data_to_text(valid_ds[\"input_ids\"][i], tokenizer=tokenizer)\n",
    "        label = tokenizer.decode(valid_ds[\"labels\"][i], skip_special_tokens=True)\n",
    "        output_list = generate_beam_search(\n",
    "            text=text,\n",
    "            model=model,\n",
    "            tokenizer=tokenizer,\n",
    "            beam_size=beam_size,\n",
    "            max_length=max_length,\n",
    "        )\n",
    "\n",
    "        if label.lower() in list(map(lambda x: x.lower(), output_list)):\n",
    "            hits += 1\n",
    "\n",
    "        results.append((text, label, output_list))\n",
    "\n",
    "        if debug:\n",
    "            print(\"Text: \", text)\n",
    "            print(\"Label: \", label)\n",
    "            print(\"Output: \", output_list)\n",
    "            print()\n",
    "\n",
    "    return pd.DataFrame(results, columns=[\"text\", \"label\", \"output_list\"]), hits"
   ]
  },
  {
   "cell_type": "code",
   "execution_count": 283,
   "metadata": {},
   "outputs": [],
   "source": [
    "# Results beam size 5\n",
    "batch = 1000 # Max -> len(valid_ds)\n",
    "results, hits = compute_hits(model, tokenizer, valid_ds[:batch], beam_size=5, debug=False)"
   ]
  },
  {
   "cell_type": "code",
   "execution_count": null,
   "metadata": {},
   "outputs": [
    {
     "data": {
      "text/plain": [
       "25"
      ]
     },
     "execution_count": 282,
     "metadata": {},
     "output_type": "execute_result"
    }
   ],
   "source": [
    "hits"
   ]
  },
  {
   "attachments": {},
   "cell_type": "markdown",
   "metadata": {},
   "source": [
    "### testes bart"
   ]
  },
  {
   "cell_type": "code",
   "execution_count": 182,
   "metadata": {},
   "outputs": [
    {
     "data": {
      "text/plain": [
       "['President',\n",
       " 'Barack',\n",
       " 'the',\n",
       " 'president',\n",
       " 'former',\n",
       " 'first',\n",
       " 'Obama',\n",
       " 'First',\n",
       " 'Donald',\n",
       " 'Bill']"
      ]
     },
     "execution_count": 182,
     "metadata": {},
     "output_type": "execute_result"
    }
   ],
   "source": [
    "from transformers import BartTokenizer, BartForConditionalGeneration\n",
    "\n",
    "TXT = \"Michelle Obama is wife of <mask>;\"\n",
    "\n",
    "input_ids = tokenizer([TXT], return_tensors=\"pt\")[\"input_ids\"]\n",
    "logits = model(input_ids.to(device)).logits\n",
    "\n",
    "masked_index = (input_ids[0] == tokenizer.mask_token_id).nonzero().item()\n",
    "probs = logits[0, masked_index].softmax(dim=0)\n",
    "values, predictions = probs.topk(10)\n",
    "\n",
    "tokenizer.decode(predictions).split()"
   ]
  },
  {
   "cell_type": "code",
   "execution_count": 187,
   "metadata": {},
   "outputs": [
    {
     "name": "stdout",
     "output_type": "stream",
     "text": [
      "[('President', 'Barack'), ('President', 'the'), ('President', 'president'), ('President', 'former'), ('Barack', 'the'), ('Barack', 'president'), ('Barack', 'former'), ('the', 'president'), ('the', 'former'), ('president', 'former')]\n"
     ]
    }
   ],
   "source": [
    "from transformers import BartTokenizer, BartForConditionalGeneration\n",
    "\n",
    "TXT = \"Michelle Obama is wife of <mask>\"\n",
    "\n",
    "device = torch.device(\"cuda\" if torch.cuda.is_available() else \"cpu\")\n",
    "\n",
    "input_ids = tokenizer([TXT], return_tensors=\"pt\")[\"input_ids\"]\n",
    "logits = model(input_ids.to(device)).logits\n",
    "\n",
    "masked_index = (input_ids[0] == tokenizer.mask_token_id).nonzero().item()\n",
    "probs = logits[0, masked_index].softmax(dim=0)\n",
    "values, predictions = probs.topk(5)\n",
    "\n",
    "predicted_tokens = tokenizer.batch_decode(predictions)\n",
    "\n",
    "suggested_words = tokenizer.decode(predictions).split()\n",
    "\n",
    "# Gerar 5 preenchimentos de 2 tokens cada\n",
    "combinations = [\n",
    "    (suggested_words[i], suggested_words[j]) for i in range(5) for j in range(i + 1, 5)\n",
    "]\n",
    "\n",
    "print(combinations)"
   ]
  },
  {
   "cell_type": "code",
   "execution_count": 212,
   "metadata": {},
   "outputs": [
    {
     "name": "stdout",
     "output_type": "stream",
     "text": [
      "['piano', 'percussion instrument', 'guitar', 'drum', 'drum kit']\n"
     ]
    }
   ],
   "source": [
    "from transformers import BartTokenizer, BartForConditionalGeneration, BartConfig\n",
    "\n",
    "TXT = \"Piano is a type of <mask>.\"\n",
    "\n",
    "# Definir hiperparâmetros da busca beam search\n",
    "num_beams = 5\n",
    "num_tokens = 10\n",
    "\n",
    "# Tokenizar a entrada\n",
    "input_ids = tokenizer([TXT], return_tensors=\"pt\")[\"input_ids\"]\n",
    "\n",
    "# Gerar preenchimentos usando busca beam search\n",
    "output = model.generate(\n",
    "    input_ids=input_ids.to(device),\n",
    "    max_length=input_ids.shape[-1] + num_tokens,\n",
    "    num_beams=num_beams,\n",
    "    num_return_sequences=num_beams,\n",
    "    pad_token_id=tokenizer.pad_token_id,\n",
    "    eos_token_id=tokenizer.eos_token_id,\n",
    "    do_sample=False,\n",
    ")\n",
    "\n",
    "# Decodificar as sequências geradas\n",
    "decoded_outputs = tokenizer.batch_decode(output, skip_special_tokens=True)\n",
    "\n",
    "# Gerar combinações de 2 tokens para as sequências decodificadas\n",
    "print(decoded_outputs)"
   ]
  },
  {
   "cell_type": "code",
   "execution_count": null,
   "metadata": {},
   "outputs": [],
   "source": []
  }
 ],
 "metadata": {
  "kernelspec": {
   "display_name": "venv",
   "language": "python",
   "name": "python3"
  },
  "language_info": {
   "codemirror_mode": {
    "name": "ipython",
    "version": 3
   },
   "file_extension": ".py",
   "mimetype": "text/x-python",
   "name": "python",
   "nbconvert_exporter": "python",
   "pygments_lexer": "ipython3",
   "version": "3.10.9"
  },
  "orig_nbformat": 4
 },
 "nbformat": 4,
 "nbformat_minor": 2
}
