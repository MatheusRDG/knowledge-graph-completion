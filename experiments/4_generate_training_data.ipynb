{
 "cells": [
  {
   "attachments": {},
   "cell_type": "markdown",
   "metadata": {},
   "source": [
    "### Model Training Setup"
   ]
  },
  {
   "cell_type": "code",
   "execution_count": 1,
   "metadata": {},
   "outputs": [
    {
     "data": {
      "text/html": [
       "\n",
       "                <script type=\"application/javascript\" id=\"jupyter_black\">\n",
       "                (function() {\n",
       "                    if (window.IPython === undefined) {\n",
       "                        return\n",
       "                    }\n",
       "                    var msg = \"WARNING: it looks like you might have loaded \" +\n",
       "                        \"jupyter_black in a non-lab notebook with \" +\n",
       "                        \"`is_lab=True`. Please double check, and if \" +\n",
       "                        \"loading with `%load_ext` please review the README!\"\n",
       "                    console.log(msg)\n",
       "                    alert(msg)\n",
       "                })()\n",
       "                </script>\n",
       "                "
      ],
      "text/plain": [
       "<IPython.core.display.HTML object>"
      ]
     },
     "metadata": {},
     "output_type": "display_data"
    }
   ],
   "source": [
    "%load_ext autoreload\n",
    "%autoreload 2\n",
    "%load_ext jupyter_black"
   ]
  },
  {
   "cell_type": "code",
   "execution_count": 2,
   "metadata": {},
   "outputs": [],
   "source": [
    "import os\n",
    "\n",
    "os.chdir(\"../\")"
   ]
  },
  {
   "cell_type": "code",
   "execution_count": 3,
   "metadata": {},
   "outputs": [],
   "source": [
    "### SETTINGS ###\n",
    "\n",
    "DATASETS = {\n",
    "    \"FB15k-237-DECODE-ONLY-LABEL\": \"data/data_processed/FB15k-237/decode_only_label/\",\n",
    "}\n",
    "MODELS = {\n",
    "    \"bart-small\": \"lucadiliello/bart-small\",\n",
    "    \"bart-base\": \"facebook/bart-base\",\n",
    "    \"bart-large\": \"facebook/bart-large\",\n",
    "}\n",
    "\n",
    "# Dataset\n",
    "DATASET = \"FB15k-237-DECODE-ONLY-LABEL\"\n",
    "MODEL = \"bart-small\"\n",
    "\n",
    "MAX_LENGTH = 50\n",
    "BATCH_SIZE = 1\n",
    "\n",
    "# If True, use only DEV_BATCH of dataset\n",
    "dev = True\n",
    "DEV_BATCH = 100"
   ]
  },
  {
   "attachments": {},
   "cell_type": "markdown",
   "metadata": {},
   "source": [
    "### Load data"
   ]
  },
  {
   "cell_type": "code",
   "execution_count": 4,
   "metadata": {},
   "outputs": [],
   "source": [
    "import pandas as pd\n",
    "from src.utils import load_fb15k237\n",
    "\n",
    "pd.set_option(\"display.max_columns\", None)\n",
    "pd.set_option(\"display.expand_frame_repr\", False)\n",
    "pd.set_option(\"max_colwidth\", None)\n",
    "\n",
    "# Path of processed datasets versioned\n",
    "\n",
    "processed_data = pd.read_csv(DATASETS[DATASET] + \"/processed_data.csv\")"
   ]
  },
  {
   "attachments": {},
   "cell_type": "markdown",
   "metadata": {},
   "source": [
    "### Load the model"
   ]
  },
  {
   "cell_type": "code",
   "execution_count": 7,
   "metadata": {},
   "outputs": [],
   "source": [
    "from transformers import (\n",
    "    BartTokenizer,\n",
    "    DataCollatorForSeq2Seq,\n",
    ")\n",
    "\n",
    "import torch\n",
    "\n",
    "tokenizer = BartTokenizer.from_pretrained(MODELS[MODEL])"
   ]
  },
  {
   "attachments": {},
   "cell_type": "markdown",
   "metadata": {},
   "source": [
    "### Masking data"
   ]
  },
  {
   "cell_type": "code",
   "execution_count": 10,
   "metadata": {},
   "outputs": [
    {
     "name": "stderr",
     "output_type": "stream",
     "text": [
      "C:\\Users\\Matheus\\AppData\\Local\\Temp\\ipykernel_3540\\1684676317.py:1: SettingWithCopyWarning: \n",
      "A value is trying to be set on a copy of a slice from a DataFrame.\n",
      "Try using .loc[row_indexer,col_indexer] = value instead\n",
      "\n",
      "See the caveats in the documentation: https://pandas.pydata.org/pandas-docs/stable/user_guide/indexing.html#returning-a-view-versus-a-copy\n",
      "  processed_data[\"data_input\"] = (\n",
      "C:\\Users\\Matheus\\AppData\\Local\\Temp\\ipykernel_3540\\1684676317.py:4: SettingWithCopyWarning: \n",
      "A value is trying to be set on a copy of a slice from a DataFrame.\n",
      "Try using .loc[row_indexer,col_indexer] = value instead\n",
      "\n",
      "See the caveats in the documentation: https://pandas.pydata.org/pandas-docs/stable/user_guide/indexing.html#returning-a-view-versus-a-copy\n",
      "  processed_data[\"data_label\"] = (\n"
     ]
    }
   ],
   "source": [
    "processed_data[\"data_input\"] = (\n",
    "    processed_data[\"demonstration_input\"] + \"%s.\" % tokenizer.mask_token\n",
    ")\n",
    "processed_data[\"data_label\"] = processed_data[\"tail_text\"]\n",
    "\n",
    "if dev:\n",
    "    if DEV_BATCH == -1:\n",
    "        pass\n",
    "    else:\n",
    "        processed_data = processed_data.head(DEV_BATCH)"
   ]
  },
  {
   "cell_type": "code",
   "execution_count": 11,
   "metadata": {},
   "outputs": [
    {
     "data": {
      "text/html": [
       "<div>\n",
       "<style scoped>\n",
       "    .dataframe tbody tr th:only-of-type {\n",
       "        vertical-align: middle;\n",
       "    }\n",
       "\n",
       "    .dataframe tbody tr th {\n",
       "        vertical-align: top;\n",
       "    }\n",
       "\n",
       "    .dataframe thead th {\n",
       "        text-align: right;\n",
       "    }\n",
       "</style>\n",
       "<table border=\"1\" class=\"dataframe\">\n",
       "  <thead>\n",
       "    <tr style=\"text-align: right;\">\n",
       "      <th></th>\n",
       "      <th>head</th>\n",
       "      <th>relation</th>\n",
       "      <th>tail</th>\n",
       "      <th>head_text</th>\n",
       "      <th>relation_text</th>\n",
       "      <th>tail_text</th>\n",
       "      <th>text</th>\n",
       "      <th>id</th>\n",
       "      <th>demonstration_input</th>\n",
       "      <th>data_input</th>\n",
       "      <th>data_label</th>\n",
       "    </tr>\n",
       "  </thead>\n",
       "  <tbody>\n",
       "    <tr>\n",
       "      <th>0</th>\n",
       "      <td>/m/027rn</td>\n",
       "      <td>/location/country/form_of_government</td>\n",
       "      <td>/m/06cx9</td>\n",
       "      <td>Dominican Republic</td>\n",
       "      <td>has form of government of</td>\n",
       "      <td>republic</td>\n",
       "      <td>Dominican Republic has form of government of republic.</td>\n",
       "      <td>0</td>\n",
       "      <td>New Zealand has form of government of parliamentary system. Republic of the Congo has form of government of presidential system. Dominican Republic has form of government of</td>\n",
       "      <td>New Zealand has form of government of parliamentary system. Republic of the Congo has form of government of presidential system. Dominican Republic has form of government of &lt;mask&gt;.</td>\n",
       "      <td>republic</td>\n",
       "    </tr>\n",
       "    <tr>\n",
       "      <th>1</th>\n",
       "      <td>/m/017dcd</td>\n",
       "      <td>/tv/tv_program/regular_cast./tv/regular_tv_appearance/actor</td>\n",
       "      <td>/m/06v8s0</td>\n",
       "      <td>Mighty Morphin Power Rangers</td>\n",
       "      <td>has actor of</td>\n",
       "      <td>Wendee Lee</td>\n",
       "      <td>Mighty Morphin Power Rangers has actor of Wendee Lee.</td>\n",
       "      <td>1</td>\n",
       "      <td>The Jetsons Meet the Flintstones has actor of Henry Corden. Six Feet Under has actor of Richard Jenkins. Mighty Morphin Power Rangers has actor of</td>\n",
       "      <td>The Jetsons Meet the Flintstones has actor of Henry Corden. Six Feet Under has actor of Richard Jenkins. Mighty Morphin Power Rangers has actor of &lt;mask&gt;.</td>\n",
       "      <td>Wendee Lee</td>\n",
       "    </tr>\n",
       "    <tr>\n",
       "      <th>2</th>\n",
       "      <td>/m/07s9rl0</td>\n",
       "      <td>/media_common/netflix_genre/titles</td>\n",
       "      <td>/m/0170z3</td>\n",
       "      <td>drama film</td>\n",
       "      <td>has titles of</td>\n",
       "      <td>American History X</td>\n",
       "      <td>drama film has titles of American History X.</td>\n",
       "      <td>2</td>\n",
       "      <td>historical period drama has titles of The Other Boleyn Girl. Bravo has titles of Top Chef. drama film has titles of</td>\n",
       "      <td>historical period drama has titles of The Other Boleyn Girl. Bravo has titles of Top Chef. drama film has titles of &lt;mask&gt;.</td>\n",
       "      <td>American History X</td>\n",
       "    </tr>\n",
       "    <tr>\n",
       "      <th>3</th>\n",
       "      <td>/m/01sl1q</td>\n",
       "      <td>/award/award_winner/awards_won./award/award_honor/award_winner</td>\n",
       "      <td>/m/044mz_</td>\n",
       "      <td>Michelle Rodriguez</td>\n",
       "      <td>has award winner of</td>\n",
       "      <td>Naveen Andrews</td>\n",
       "      <td>Michelle Rodriguez has award winner of Naveen Andrews.</td>\n",
       "      <td>3</td>\n",
       "      <td>Jenna Ushkowitz has award winner of Josh Sussman. Paul Dini has award winner of Adam Horowitz. Michelle Rodriguez has award winner of</td>\n",
       "      <td>Jenna Ushkowitz has award winner of Josh Sussman. Paul Dini has award winner of Adam Horowitz. Michelle Rodriguez has award winner of &lt;mask&gt;.</td>\n",
       "      <td>Naveen Andrews</td>\n",
       "    </tr>\n",
       "    <tr>\n",
       "      <th>4</th>\n",
       "      <td>/m/0cnk2q</td>\n",
       "      <td>/soccer/football_team/current_roster./sports/sports_team_roster/position</td>\n",
       "      <td>/m/02nzb8</td>\n",
       "      <td>Australia national association football team</td>\n",
       "      <td>has position of</td>\n",
       "      <td>midfielder</td>\n",
       "      <td>Australia national association football team has position of midfielder.</td>\n",
       "      <td>4</td>\n",
       "      <td>FC Kuban Krasnodar has position of goalkeeper. PFC Levski Sofia has position of midfielder. Australia national association football team has position of</td>\n",
       "      <td>FC Kuban Krasnodar has position of goalkeeper. PFC Levski Sofia has position of midfielder. Australia national association football team has position of &lt;mask&gt;.</td>\n",
       "      <td>midfielder</td>\n",
       "    </tr>\n",
       "    <tr>\n",
       "      <th>...</th>\n",
       "      <td>...</td>\n",
       "      <td>...</td>\n",
       "      <td>...</td>\n",
       "      <td>...</td>\n",
       "      <td>...</td>\n",
       "      <td>...</td>\n",
       "      <td>...</td>\n",
       "      <td>...</td>\n",
       "      <td>...</td>\n",
       "      <td>...</td>\n",
       "      <td>...</td>\n",
       "    </tr>\n",
       "    <tr>\n",
       "      <th>95</th>\n",
       "      <td>/m/06cqb</td>\n",
       "      <td>/music/genre/parent_genre</td>\n",
       "      <td>/m/0827d</td>\n",
       "      <td>reggae</td>\n",
       "      <td>has parent genre of</td>\n",
       "      <td>world music</td>\n",
       "      <td>reggae has parent genre of world music.</td>\n",
       "      <td>101</td>\n",
       "      <td>symphonic rock has parent genre of progressive rock. post-punk has parent genre of reggae. reggae has parent genre of</td>\n",
       "      <td>symphonic rock has parent genre of progressive rock. post-punk has parent genre of reggae. reggae has parent genre of &lt;mask&gt;.</td>\n",
       "      <td>world music</td>\n",
       "    </tr>\n",
       "    <tr>\n",
       "      <th>96</th>\n",
       "      <td>/m/014zcr</td>\n",
       "      <td>/base/popstra/celebrity/breakup./base/popstra/breakup/participant</td>\n",
       "      <td>/m/05m63c</td>\n",
       "      <td>George Clooney</td>\n",
       "      <td>has participant of</td>\n",
       "      <td>Krista Allen</td>\n",
       "      <td>George Clooney has participant of Krista Allen.</td>\n",
       "      <td>102</td>\n",
       "      <td>Nicole Kidman has participant of Tom Cruise. Johnny Depp has participant of Kate Moss. George Clooney has participant of</td>\n",
       "      <td>Nicole Kidman has participant of Tom Cruise. Johnny Depp has participant of Kate Moss. George Clooney has participant of &lt;mask&gt;.</td>\n",
       "      <td>Krista Allen</td>\n",
       "    </tr>\n",
       "    <tr>\n",
       "      <th>97</th>\n",
       "      <td>/m/0yyg4</td>\n",
       "      <td>/award/award_winning_work/awards_won./award/award_honor/award</td>\n",
       "      <td>/m/027c924</td>\n",
       "      <td>Mississippi Burning</td>\n",
       "      <td>has award of</td>\n",
       "      <td>National Board of Review Award for Best Director</td>\n",
       "      <td>Mississippi Burning has award of National Board of Review Award for Best Director.</td>\n",
       "      <td>103</td>\n",
       "      <td>Kuch Kuch Hota Hai has award of Filmfare Award for Best Supporting Actor. Sex and the City 2 has award of Golden Raspberry Award for Worst Screen Couple/Ensemble. Mississippi Burning has award of</td>\n",
       "      <td>Kuch Kuch Hota Hai has award of Filmfare Award for Best Supporting Actor. Sex and the City 2 has award of Golden Raspberry Award for Worst Screen Couple/Ensemble. Mississippi Burning has award of &lt;mask&gt;.</td>\n",
       "      <td>National Board of Review Award for Best Director</td>\n",
       "    </tr>\n",
       "    <tr>\n",
       "      <th>98</th>\n",
       "      <td>/m/0h3y</td>\n",
       "      <td>/location/country/capital</td>\n",
       "      <td>/m/0rtv</td>\n",
       "      <td>Algeria</td>\n",
       "      <td>has capital of</td>\n",
       "      <td>Algiers</td>\n",
       "      <td>Algeria has capital of Algiers.</td>\n",
       "      <td>104</td>\n",
       "      <td>Kingdom of Prussia has capital of Berlin. Austria-Hungary has capital of Vienna. Algeria has capital of</td>\n",
       "      <td>Kingdom of Prussia has capital of Berlin. Austria-Hungary has capital of Vienna. Algeria has capital of &lt;mask&gt;.</td>\n",
       "      <td>Algiers</td>\n",
       "    </tr>\n",
       "    <tr>\n",
       "      <th>99</th>\n",
       "      <td>/m/090s_0</td>\n",
       "      <td>/tv/tv_program/regular_cast./tv/regular_tv_appearance/actor</td>\n",
       "      <td>/m/0h0jz</td>\n",
       "      <td>Gulliver's Travels</td>\n",
       "      <td>has actor of</td>\n",
       "      <td>Peter O'Toole</td>\n",
       "      <td>Gulliver's Travels has actor of Peter O'Toole.</td>\n",
       "      <td>105</td>\n",
       "      <td>The Jetsons Meet the Flintstones has actor of Henry Corden. Six Feet Under has actor of Richard Jenkins. Gulliver's Travels has actor of</td>\n",
       "      <td>The Jetsons Meet the Flintstones has actor of Henry Corden. Six Feet Under has actor of Richard Jenkins. Gulliver's Travels has actor of &lt;mask&gt;.</td>\n",
       "      <td>Peter O'Toole</td>\n",
       "    </tr>\n",
       "  </tbody>\n",
       "</table>\n",
       "<p>100 rows × 11 columns</p>\n",
       "</div>"
      ],
      "text/plain": [
       "          head                                                                  relation        tail                                     head_text              relation_text                                         tail_text                                                                                text   id                                                                                                                                                                                   demonstration_input                                                                                                                                                                                                   data_input                                        data_label\n",
       "0     /m/027rn                                      /location/country/form_of_government    /m/06cx9                            Dominican Republic  has form of government of                                          republic                              Dominican Republic has form of government of republic.    0                        New Zealand has form of government of parliamentary system. Republic of the Congo has form of government of presidential system. Dominican Republic has form of government of                         New Zealand has form of government of parliamentary system. Republic of the Congo has form of government of presidential system. Dominican Republic has form of government of <mask>.                                          republic\n",
       "1    /m/017dcd               /tv/tv_program/regular_cast./tv/regular_tv_appearance/actor   /m/06v8s0                  Mighty Morphin Power Rangers               has actor of                                        Wendee Lee                               Mighty Morphin Power Rangers has actor of Wendee Lee.    1                                                   The Jetsons Meet the Flintstones has actor of Henry Corden. Six Feet Under has actor of Richard Jenkins. Mighty Morphin Power Rangers has actor of                                                    The Jetsons Meet the Flintstones has actor of Henry Corden. Six Feet Under has actor of Richard Jenkins. Mighty Morphin Power Rangers has actor of <mask>.                                        Wendee Lee\n",
       "2   /m/07s9rl0                                        /media_common/netflix_genre/titles   /m/0170z3                                    drama film              has titles of                                American History X                                        drama film has titles of American History X.    2                                                                                  historical period drama has titles of The Other Boleyn Girl. Bravo has titles of Top Chef. drama film has titles of                                                                                   historical period drama has titles of The Other Boleyn Girl. Bravo has titles of Top Chef. drama film has titles of <mask>.                                American History X\n",
       "3    /m/01sl1q            /award/award_winner/awards_won./award/award_honor/award_winner   /m/044mz_                            Michelle Rodriguez        has award winner of                                    Naveen Andrews                              Michelle Rodriguez has award winner of Naveen Andrews.    3                                                                Jenna Ushkowitz has award winner of Josh Sussman. Paul Dini has award winner of Adam Horowitz. Michelle Rodriguez has award winner of                                                                 Jenna Ushkowitz has award winner of Josh Sussman. Paul Dini has award winner of Adam Horowitz. Michelle Rodriguez has award winner of <mask>.                                    Naveen Andrews\n",
       "4    /m/0cnk2q  /soccer/football_team/current_roster./sports/sports_team_roster/position   /m/02nzb8  Australia national association football team            has position of                                        midfielder            Australia national association football team has position of midfielder.    4                                             FC Kuban Krasnodar has position of goalkeeper. PFC Levski Sofia has position of midfielder. Australia national association football team has position of                                              FC Kuban Krasnodar has position of goalkeeper. PFC Levski Sofia has position of midfielder. Australia national association football team has position of <mask>.                                        midfielder\n",
       "..         ...                                                                       ...         ...                                           ...                        ...                                               ...                                                                                 ...  ...                                                                                                                                                                                                   ...                                                                                                                                                                                                          ...                                               ...\n",
       "95    /m/06cqb                                                 /music/genre/parent_genre    /m/0827d                                        reggae        has parent genre of                                       world music                                             reggae has parent genre of world music.  101                                                                                symphonic rock has parent genre of progressive rock. post-punk has parent genre of reggae. reggae has parent genre of                                                                                 symphonic rock has parent genre of progressive rock. post-punk has parent genre of reggae. reggae has parent genre of <mask>.                                       world music\n",
       "96   /m/014zcr         /base/popstra/celebrity/breakup./base/popstra/breakup/participant   /m/05m63c                                George Clooney         has participant of                                      Krista Allen                                     George Clooney has participant of Krista Allen.  102                                                                             Nicole Kidman has participant of Tom Cruise. Johnny Depp has participant of Kate Moss. George Clooney has participant of                                                                              Nicole Kidman has participant of Tom Cruise. Johnny Depp has participant of Kate Moss. George Clooney has participant of <mask>.                                      Krista Allen\n",
       "97    /m/0yyg4             /award/award_winning_work/awards_won./award/award_honor/award  /m/027c924                           Mississippi Burning               has award of  National Board of Review Award for Best Director  Mississippi Burning has award of National Board of Review Award for Best Director.  103  Kuch Kuch Hota Hai has award of Filmfare Award for Best Supporting Actor. Sex and the City 2 has award of Golden Raspberry Award for Worst Screen Couple/Ensemble. Mississippi Burning has award of   Kuch Kuch Hota Hai has award of Filmfare Award for Best Supporting Actor. Sex and the City 2 has award of Golden Raspberry Award for Worst Screen Couple/Ensemble. Mississippi Burning has award of <mask>.  National Board of Review Award for Best Director\n",
       "98     /m/0h3y                                                 /location/country/capital     /m/0rtv                                       Algeria             has capital of                                           Algiers                                                     Algeria has capital of Algiers.  104                                                                                              Kingdom of Prussia has capital of Berlin. Austria-Hungary has capital of Vienna. Algeria has capital of                                                                                               Kingdom of Prussia has capital of Berlin. Austria-Hungary has capital of Vienna. Algeria has capital of <mask>.                                           Algiers\n",
       "99   /m/090s_0               /tv/tv_program/regular_cast./tv/regular_tv_appearance/actor    /m/0h0jz                            Gulliver's Travels               has actor of                                     Peter O'Toole                                      Gulliver's Travels has actor of Peter O'Toole.  105                                                             The Jetsons Meet the Flintstones has actor of Henry Corden. Six Feet Under has actor of Richard Jenkins. Gulliver's Travels has actor of                                                              The Jetsons Meet the Flintstones has actor of Henry Corden. Six Feet Under has actor of Richard Jenkins. Gulliver's Travels has actor of <mask>.                                     Peter O'Toole\n",
       "\n",
       "[100 rows x 11 columns]"
      ]
     },
     "execution_count": 11,
     "metadata": {},
     "output_type": "execute_result"
    }
   ],
   "source": [
    "processed_data"
   ]
  },
  {
   "cell_type": "code",
   "execution_count": 16,
   "metadata": {},
   "outputs": [],
   "source": [
    "from src.datasetkgc import DatasetKGC, generate_train_valid_dataset"
   ]
  },
  {
   "cell_type": "code",
   "execution_count": 17,
   "metadata": {},
   "outputs": [
    {
     "data": {
      "application/vnd.jupyter.widget-view+json": {
       "model_id": "e8d2dbe1680145d3961313c67bb2d79b",
       "version_major": 2,
       "version_minor": 0
      },
      "text/plain": [
       "  0%|          | 0/80 [00:00<?, ?it/s]"
      ]
     },
     "metadata": {},
     "output_type": "display_data"
    },
    {
     "data": {
      "application/vnd.jupyter.widget-view+json": {
       "model_id": "195a00a15a9e4ee2af2b6d8d3d10da1f",
       "version_major": 2,
       "version_minor": 0
      },
      "text/plain": [
       "  0%|          | 0/20 [00:00<?, ?it/s]"
      ]
     },
     "metadata": {},
     "output_type": "display_data"
    },
    {
     "name": "stdout",
     "output_type": "stream",
     "text": [
      "CPU times: total: 109 ms\n",
      "Wall time: 97 ms\n"
     ]
    }
   ],
   "source": [
    "%%time\n",
    "train_ds, valid_ds = generate_train_valid_dataset(processed_data, tokenizer, 50)"
   ]
  },
  {
   "cell_type": "code",
   "execution_count": null,
   "metadata": {},
   "outputs": [],
   "source": [
    "torch.save(train_ds, dataset_paths[DATASET] + \"/train_ds.pth\")\n",
    "torch.save(valid_ds, dataset_paths[DATASET] + \"/valid_ds.pth\")"
   ]
  }
 ],
 "metadata": {
  "kernelspec": {
   "display_name": "venv",
   "language": "python",
   "name": "python3"
  },
  "language_info": {
   "codemirror_mode": {
    "name": "ipython",
    "version": 3
   },
   "file_extension": ".py",
   "mimetype": "text/x-python",
   "name": "python",
   "nbconvert_exporter": "python",
   "pygments_lexer": "ipython3",
   "version": "3.10.9"
  },
  "orig_nbformat": 4
 },
 "nbformat": 4,
 "nbformat_minor": 2
}
